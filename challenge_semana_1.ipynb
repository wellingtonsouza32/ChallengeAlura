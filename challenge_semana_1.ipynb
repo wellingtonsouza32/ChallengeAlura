{
  "nbformat": 4,
  "nbformat_minor": 0,
  "metadata": {
    "colab": {
      "name": "challenge_semana_1.ipynb",
      "provenance": [],
      "mount_file_id": "https://github.com/wellingtonsouza32/ChallengeAlura/blob/main/challenge_semana_1.ipynb",
      "authorship_tag": "ABX9TyPmCvbSn9oMpEiMWtUdI4SC",
      "include_colab_link": true
    },
    "kernelspec": {
      "name": "python3",
      "display_name": "Python 3"
    },
    "language_info": {
      "name": "python"
    }
  },
  "cells": [
    {
      "cell_type": "markdown",
      "metadata": {
        "id": "view-in-github",
        "colab_type": "text"
      },
      "source": [
        "<a href=\"https://colab.research.google.com/github/wellingtonsouza32/ChallengeAlura/blob/main/challenge_semana_1.ipynb\" target=\"_parent\"><img src=\"https://colab.research.google.com/assets/colab-badge.svg\" alt=\"Open In Colab\"/></a>"
      ]
    },
    {
      "cell_type": "markdown",
      "source": [
        "##**ALURA VOZ**\n"
      ],
      "metadata": {
        "id": "vDihfMENtboD"
      }
    },
    {
      "cell_type": "markdown",
      "source": [
        "- Solicitação da área de Vendas da Empresa\n",
        "  - Reduzir taxa de Evasão de Clientes (Churn Rate)\n",
        "\n",
        "- Sugestão de análise\n",
        "  - Identificar Cliente que tenham maior chance de deixar a empresa\n",
        "  - Investigar caracteristicas de clientes\n",
        "  - Investigar planos de Clientes\n",
        "  - Classificar as pessoas \"Deixará a empresa\" ou \"Não Deixará a empresa\"\n",
        "\n",
        "- Plano de Ação\n",
        "  - Trabalhar conjunto de dados (explorar, tratar e modelar)\n",
        "  - Otimizar cada modelo\n",
        "  - O Modelos deve apoiar na toma de decisão\n",
        "  - Publicar os avanços no GitHub\n"
      ],
      "metadata": {
        "id": "j23IGnPDtYB6"
      }
    },
    {
      "cell_type": "markdown",
      "source": [
        "#Dicionário de dados\n",
        "- customerID: número de identificação único de cada cliente\n",
        "- Churn: se o cliente deixou ou não a empresa\n",
        "- gender: gênero (masculino e feminino)\n",
        "- SeniorCitizen: informação sobre um cliente ter ou não idade igual ou maior que 65 anos\n",
        "- Partner: se o cliente possui ou não um parceiro ou parceira\n",
        "- Dependents: se o cliente possui ou não dependentes\n",
        "- tenure: meses de contrato do cliente\n",
        "- PhoneService: assinatura de serviço telefônico\n",
        "- MultipleLines: assisnatura de mais de uma linha de telefone\n",
        "- InternetService: assinatura de um provedor internet\n",
        "- OnlineSecurity: assinatura adicional de segurança online\n",
        "- OnlineBackup: assinatura adicional de backup online\n",
        "- DeviceProtection: assinatura adicional de proteção no dispositivo\n",
        "- TechSupport: assinatura adicional de suporte técnico, menos tempo de espera\n",
        "- StreamingTV: assinatura de TV a cabo\n",
        "- StreamingMovies: assinatura de streaming de filmes\n",
        "- Contract: tipo de contrato\n",
        "- PaperlessBilling: se o cliente prefere receber online a fatura\n",
        "- PaymentMethod: forma de pagamento\n",
        "- Charges.Monthly: total de todos os serviços do cliente por mês\n",
        "- Charges.Total: total gasto pelo cliente"
      ],
      "metadata": {
        "id": "fxK4CxlXvioP"
      }
    },
    {
      "cell_type": "code",
      "source": [
        "import pandas as pd\n"
      ],
      "metadata": {
        "id": "0MR1CCj8uygh"
      },
      "execution_count": 44,
      "outputs": []
    },
    {
      "cell_type": "markdown",
      "source": [
        "#Importando o Json com o dataset proposto\n",
        "\n"
      ],
      "metadata": {
        "id": "IObC9giSOeFS"
      }
    },
    {
      "cell_type": "code",
      "source": [
        "dados = pd.read_json(\n",
        "    path_or_buf='/content/drive/MyDrive/challenge_semana1/challenge_1.json',\n",
        "    orient = 'columns'\n",
        ")\n",
        "dados.head()"
      ],
      "metadata": {
        "colab": {
          "base_uri": "https://localhost:8080/",
          "height": 337
        },
        "id": "EX70MSuFw52y",
        "outputId": "c9ed6d2e-3ee2-4c73-88e2-21a49236b2e6"
      },
      "execution_count": 175,
      "outputs": [
        {
          "output_type": "execute_result",
          "data": {
            "text/plain": [
              "   customerID Churn                                           customer  \\\n",
              "0  0002-ORFBO    No  {'gender': 'Female', 'SeniorCitizen': 0, 'Part...   \n",
              "1  0003-MKNFE    No  {'gender': 'Male', 'SeniorCitizen': 0, 'Partne...   \n",
              "2  0004-TLHLJ   Yes  {'gender': 'Male', 'SeniorCitizen': 0, 'Partne...   \n",
              "3  0011-IGKFF   Yes  {'gender': 'Male', 'SeniorCitizen': 1, 'Partne...   \n",
              "4  0013-EXCHZ   Yes  {'gender': 'Female', 'SeniorCitizen': 1, 'Part...   \n",
              "\n",
              "                                             phone  \\\n",
              "0   {'PhoneService': 'Yes', 'MultipleLines': 'No'}   \n",
              "1  {'PhoneService': 'Yes', 'MultipleLines': 'Yes'}   \n",
              "2   {'PhoneService': 'Yes', 'MultipleLines': 'No'}   \n",
              "3   {'PhoneService': 'Yes', 'MultipleLines': 'No'}   \n",
              "4   {'PhoneService': 'Yes', 'MultipleLines': 'No'}   \n",
              "\n",
              "                                            internet  \\\n",
              "0  {'InternetService': 'DSL', 'OnlineSecurity': '...   \n",
              "1  {'InternetService': 'DSL', 'OnlineSecurity': '...   \n",
              "2  {'InternetService': 'Fiber optic', 'OnlineSecu...   \n",
              "3  {'InternetService': 'Fiber optic', 'OnlineSecu...   \n",
              "4  {'InternetService': 'Fiber optic', 'OnlineSecu...   \n",
              "\n",
              "                                             account  \n",
              "0  {'Contract': 'One year', 'PaperlessBilling': '...  \n",
              "1  {'Contract': 'Month-to-month', 'PaperlessBilli...  \n",
              "2  {'Contract': 'Month-to-month', 'PaperlessBilli...  \n",
              "3  {'Contract': 'Month-to-month', 'PaperlessBilli...  \n",
              "4  {'Contract': 'Month-to-month', 'PaperlessBilli...  "
            ],
            "text/html": [
              "\n",
              "  <div id=\"df-80e47fed-8c1d-44d9-9709-7423e98d882a\">\n",
              "    <div class=\"colab-df-container\">\n",
              "      <div>\n",
              "<style scoped>\n",
              "    .dataframe tbody tr th:only-of-type {\n",
              "        vertical-align: middle;\n",
              "    }\n",
              "\n",
              "    .dataframe tbody tr th {\n",
              "        vertical-align: top;\n",
              "    }\n",
              "\n",
              "    .dataframe thead th {\n",
              "        text-align: right;\n",
              "    }\n",
              "</style>\n",
              "<table border=\"1\" class=\"dataframe\">\n",
              "  <thead>\n",
              "    <tr style=\"text-align: right;\">\n",
              "      <th></th>\n",
              "      <th>customerID</th>\n",
              "      <th>Churn</th>\n",
              "      <th>customer</th>\n",
              "      <th>phone</th>\n",
              "      <th>internet</th>\n",
              "      <th>account</th>\n",
              "    </tr>\n",
              "  </thead>\n",
              "  <tbody>\n",
              "    <tr>\n",
              "      <th>0</th>\n",
              "      <td>0002-ORFBO</td>\n",
              "      <td>No</td>\n",
              "      <td>{'gender': 'Female', 'SeniorCitizen': 0, 'Part...</td>\n",
              "      <td>{'PhoneService': 'Yes', 'MultipleLines': 'No'}</td>\n",
              "      <td>{'InternetService': 'DSL', 'OnlineSecurity': '...</td>\n",
              "      <td>{'Contract': 'One year', 'PaperlessBilling': '...</td>\n",
              "    </tr>\n",
              "    <tr>\n",
              "      <th>1</th>\n",
              "      <td>0003-MKNFE</td>\n",
              "      <td>No</td>\n",
              "      <td>{'gender': 'Male', 'SeniorCitizen': 0, 'Partne...</td>\n",
              "      <td>{'PhoneService': 'Yes', 'MultipleLines': 'Yes'}</td>\n",
              "      <td>{'InternetService': 'DSL', 'OnlineSecurity': '...</td>\n",
              "      <td>{'Contract': 'Month-to-month', 'PaperlessBilli...</td>\n",
              "    </tr>\n",
              "    <tr>\n",
              "      <th>2</th>\n",
              "      <td>0004-TLHLJ</td>\n",
              "      <td>Yes</td>\n",
              "      <td>{'gender': 'Male', 'SeniorCitizen': 0, 'Partne...</td>\n",
              "      <td>{'PhoneService': 'Yes', 'MultipleLines': 'No'}</td>\n",
              "      <td>{'InternetService': 'Fiber optic', 'OnlineSecu...</td>\n",
              "      <td>{'Contract': 'Month-to-month', 'PaperlessBilli...</td>\n",
              "    </tr>\n",
              "    <tr>\n",
              "      <th>3</th>\n",
              "      <td>0011-IGKFF</td>\n",
              "      <td>Yes</td>\n",
              "      <td>{'gender': 'Male', 'SeniorCitizen': 1, 'Partne...</td>\n",
              "      <td>{'PhoneService': 'Yes', 'MultipleLines': 'No'}</td>\n",
              "      <td>{'InternetService': 'Fiber optic', 'OnlineSecu...</td>\n",
              "      <td>{'Contract': 'Month-to-month', 'PaperlessBilli...</td>\n",
              "    </tr>\n",
              "    <tr>\n",
              "      <th>4</th>\n",
              "      <td>0013-EXCHZ</td>\n",
              "      <td>Yes</td>\n",
              "      <td>{'gender': 'Female', 'SeniorCitizen': 1, 'Part...</td>\n",
              "      <td>{'PhoneService': 'Yes', 'MultipleLines': 'No'}</td>\n",
              "      <td>{'InternetService': 'Fiber optic', 'OnlineSecu...</td>\n",
              "      <td>{'Contract': 'Month-to-month', 'PaperlessBilli...</td>\n",
              "    </tr>\n",
              "  </tbody>\n",
              "</table>\n",
              "</div>\n",
              "      <button class=\"colab-df-convert\" onclick=\"convertToInteractive('df-80e47fed-8c1d-44d9-9709-7423e98d882a')\"\n",
              "              title=\"Convert this dataframe to an interactive table.\"\n",
              "              style=\"display:none;\">\n",
              "        \n",
              "  <svg xmlns=\"http://www.w3.org/2000/svg\" height=\"24px\"viewBox=\"0 0 24 24\"\n",
              "       width=\"24px\">\n",
              "    <path d=\"M0 0h24v24H0V0z\" fill=\"none\"/>\n",
              "    <path d=\"M18.56 5.44l.94 2.06.94-2.06 2.06-.94-2.06-.94-.94-2.06-.94 2.06-2.06.94zm-11 1L8.5 8.5l.94-2.06 2.06-.94-2.06-.94L8.5 2.5l-.94 2.06-2.06.94zm10 10l.94 2.06.94-2.06 2.06-.94-2.06-.94-.94-2.06-.94 2.06-2.06.94z\"/><path d=\"M17.41 7.96l-1.37-1.37c-.4-.4-.92-.59-1.43-.59-.52 0-1.04.2-1.43.59L10.3 9.45l-7.72 7.72c-.78.78-.78 2.05 0 2.83L4 21.41c.39.39.9.59 1.41.59.51 0 1.02-.2 1.41-.59l7.78-7.78 2.81-2.81c.8-.78.8-2.07 0-2.86zM5.41 20L4 18.59l7.72-7.72 1.47 1.35L5.41 20z\"/>\n",
              "  </svg>\n",
              "      </button>\n",
              "      \n",
              "  <style>\n",
              "    .colab-df-container {\n",
              "      display:flex;\n",
              "      flex-wrap:wrap;\n",
              "      gap: 12px;\n",
              "    }\n",
              "\n",
              "    .colab-df-convert {\n",
              "      background-color: #E8F0FE;\n",
              "      border: none;\n",
              "      border-radius: 50%;\n",
              "      cursor: pointer;\n",
              "      display: none;\n",
              "      fill: #1967D2;\n",
              "      height: 32px;\n",
              "      padding: 0 0 0 0;\n",
              "      width: 32px;\n",
              "    }\n",
              "\n",
              "    .colab-df-convert:hover {\n",
              "      background-color: #E2EBFA;\n",
              "      box-shadow: 0px 1px 2px rgba(60, 64, 67, 0.3), 0px 1px 3px 1px rgba(60, 64, 67, 0.15);\n",
              "      fill: #174EA6;\n",
              "    }\n",
              "\n",
              "    [theme=dark] .colab-df-convert {\n",
              "      background-color: #3B4455;\n",
              "      fill: #D2E3FC;\n",
              "    }\n",
              "\n",
              "    [theme=dark] .colab-df-convert:hover {\n",
              "      background-color: #434B5C;\n",
              "      box-shadow: 0px 1px 3px 1px rgba(0, 0, 0, 0.15);\n",
              "      filter: drop-shadow(0px 1px 2px rgba(0, 0, 0, 0.3));\n",
              "      fill: #FFFFFF;\n",
              "    }\n",
              "  </style>\n",
              "\n",
              "      <script>\n",
              "        const buttonEl =\n",
              "          document.querySelector('#df-80e47fed-8c1d-44d9-9709-7423e98d882a button.colab-df-convert');\n",
              "        buttonEl.style.display =\n",
              "          google.colab.kernel.accessAllowed ? 'block' : 'none';\n",
              "\n",
              "        async function convertToInteractive(key) {\n",
              "          const element = document.querySelector('#df-80e47fed-8c1d-44d9-9709-7423e98d882a');\n",
              "          const dataTable =\n",
              "            await google.colab.kernel.invokeFunction('convertToInteractive',\n",
              "                                                     [key], {});\n",
              "          if (!dataTable) return;\n",
              "\n",
              "          const docLinkHtml = 'Like what you see? Visit the ' +\n",
              "            '<a target=\"_blank\" href=https://colab.research.google.com/notebooks/data_table.ipynb>data table notebook</a>'\n",
              "            + ' to learn more about interactive tables.';\n",
              "          element.innerHTML = '';\n",
              "          dataTable['output_type'] = 'display_data';\n",
              "          await google.colab.output.renderOutput(dataTable, element);\n",
              "          const docLink = document.createElement('div');\n",
              "          docLink.innerHTML = docLinkHtml;\n",
              "          element.appendChild(docLink);\n",
              "        }\n",
              "      </script>\n",
              "    </div>\n",
              "  </div>\n",
              "  "
            ]
          },
          "metadata": {},
          "execution_count": 175
        }
      ]
    },
    {
      "cell_type": "markdown",
      "source": [
        "#Tratando a coluna customer para torná-la um Dataframe"
      ],
      "metadata": {
        "id": "VBf0-liVOm16"
      }
    },
    {
      "cell_type": "code",
      "source": [
        "dados_customer = pd.json_normalize(data=dados.customer)\n",
        "dados_customer.head(5)"
      ],
      "metadata": {
        "colab": {
          "base_uri": "https://localhost:8080/",
          "height": 206
        },
        "id": "U-mfI39IyJGb",
        "outputId": "7ac427a7-8558-42ee-c56c-4a991c827efd"
      },
      "execution_count": 176,
      "outputs": [
        {
          "output_type": "execute_result",
          "data": {
            "text/plain": [
              "   gender  SeniorCitizen Partner Dependents  tenure\n",
              "0  Female              0     Yes        Yes       9\n",
              "1    Male              0      No         No       9\n",
              "2    Male              0      No         No       4\n",
              "3    Male              1     Yes         No      13\n",
              "4  Female              1     Yes         No       3"
            ],
            "text/html": [
              "\n",
              "  <div id=\"df-bc8801ef-1be6-422d-8889-4aedb15f89a7\">\n",
              "    <div class=\"colab-df-container\">\n",
              "      <div>\n",
              "<style scoped>\n",
              "    .dataframe tbody tr th:only-of-type {\n",
              "        vertical-align: middle;\n",
              "    }\n",
              "\n",
              "    .dataframe tbody tr th {\n",
              "        vertical-align: top;\n",
              "    }\n",
              "\n",
              "    .dataframe thead th {\n",
              "        text-align: right;\n",
              "    }\n",
              "</style>\n",
              "<table border=\"1\" class=\"dataframe\">\n",
              "  <thead>\n",
              "    <tr style=\"text-align: right;\">\n",
              "      <th></th>\n",
              "      <th>gender</th>\n",
              "      <th>SeniorCitizen</th>\n",
              "      <th>Partner</th>\n",
              "      <th>Dependents</th>\n",
              "      <th>tenure</th>\n",
              "    </tr>\n",
              "  </thead>\n",
              "  <tbody>\n",
              "    <tr>\n",
              "      <th>0</th>\n",
              "      <td>Female</td>\n",
              "      <td>0</td>\n",
              "      <td>Yes</td>\n",
              "      <td>Yes</td>\n",
              "      <td>9</td>\n",
              "    </tr>\n",
              "    <tr>\n",
              "      <th>1</th>\n",
              "      <td>Male</td>\n",
              "      <td>0</td>\n",
              "      <td>No</td>\n",
              "      <td>No</td>\n",
              "      <td>9</td>\n",
              "    </tr>\n",
              "    <tr>\n",
              "      <th>2</th>\n",
              "      <td>Male</td>\n",
              "      <td>0</td>\n",
              "      <td>No</td>\n",
              "      <td>No</td>\n",
              "      <td>4</td>\n",
              "    </tr>\n",
              "    <tr>\n",
              "      <th>3</th>\n",
              "      <td>Male</td>\n",
              "      <td>1</td>\n",
              "      <td>Yes</td>\n",
              "      <td>No</td>\n",
              "      <td>13</td>\n",
              "    </tr>\n",
              "    <tr>\n",
              "      <th>4</th>\n",
              "      <td>Female</td>\n",
              "      <td>1</td>\n",
              "      <td>Yes</td>\n",
              "      <td>No</td>\n",
              "      <td>3</td>\n",
              "    </tr>\n",
              "  </tbody>\n",
              "</table>\n",
              "</div>\n",
              "      <button class=\"colab-df-convert\" onclick=\"convertToInteractive('df-bc8801ef-1be6-422d-8889-4aedb15f89a7')\"\n",
              "              title=\"Convert this dataframe to an interactive table.\"\n",
              "              style=\"display:none;\">\n",
              "        \n",
              "  <svg xmlns=\"http://www.w3.org/2000/svg\" height=\"24px\"viewBox=\"0 0 24 24\"\n",
              "       width=\"24px\">\n",
              "    <path d=\"M0 0h24v24H0V0z\" fill=\"none\"/>\n",
              "    <path d=\"M18.56 5.44l.94 2.06.94-2.06 2.06-.94-2.06-.94-.94-2.06-.94 2.06-2.06.94zm-11 1L8.5 8.5l.94-2.06 2.06-.94-2.06-.94L8.5 2.5l-.94 2.06-2.06.94zm10 10l.94 2.06.94-2.06 2.06-.94-2.06-.94-.94-2.06-.94 2.06-2.06.94z\"/><path d=\"M17.41 7.96l-1.37-1.37c-.4-.4-.92-.59-1.43-.59-.52 0-1.04.2-1.43.59L10.3 9.45l-7.72 7.72c-.78.78-.78 2.05 0 2.83L4 21.41c.39.39.9.59 1.41.59.51 0 1.02-.2 1.41-.59l7.78-7.78 2.81-2.81c.8-.78.8-2.07 0-2.86zM5.41 20L4 18.59l7.72-7.72 1.47 1.35L5.41 20z\"/>\n",
              "  </svg>\n",
              "      </button>\n",
              "      \n",
              "  <style>\n",
              "    .colab-df-container {\n",
              "      display:flex;\n",
              "      flex-wrap:wrap;\n",
              "      gap: 12px;\n",
              "    }\n",
              "\n",
              "    .colab-df-convert {\n",
              "      background-color: #E8F0FE;\n",
              "      border: none;\n",
              "      border-radius: 50%;\n",
              "      cursor: pointer;\n",
              "      display: none;\n",
              "      fill: #1967D2;\n",
              "      height: 32px;\n",
              "      padding: 0 0 0 0;\n",
              "      width: 32px;\n",
              "    }\n",
              "\n",
              "    .colab-df-convert:hover {\n",
              "      background-color: #E2EBFA;\n",
              "      box-shadow: 0px 1px 2px rgba(60, 64, 67, 0.3), 0px 1px 3px 1px rgba(60, 64, 67, 0.15);\n",
              "      fill: #174EA6;\n",
              "    }\n",
              "\n",
              "    [theme=dark] .colab-df-convert {\n",
              "      background-color: #3B4455;\n",
              "      fill: #D2E3FC;\n",
              "    }\n",
              "\n",
              "    [theme=dark] .colab-df-convert:hover {\n",
              "      background-color: #434B5C;\n",
              "      box-shadow: 0px 1px 3px 1px rgba(0, 0, 0, 0.15);\n",
              "      filter: drop-shadow(0px 1px 2px rgba(0, 0, 0, 0.3));\n",
              "      fill: #FFFFFF;\n",
              "    }\n",
              "  </style>\n",
              "\n",
              "      <script>\n",
              "        const buttonEl =\n",
              "          document.querySelector('#df-bc8801ef-1be6-422d-8889-4aedb15f89a7 button.colab-df-convert');\n",
              "        buttonEl.style.display =\n",
              "          google.colab.kernel.accessAllowed ? 'block' : 'none';\n",
              "\n",
              "        async function convertToInteractive(key) {\n",
              "          const element = document.querySelector('#df-bc8801ef-1be6-422d-8889-4aedb15f89a7');\n",
              "          const dataTable =\n",
              "            await google.colab.kernel.invokeFunction('convertToInteractive',\n",
              "                                                     [key], {});\n",
              "          if (!dataTable) return;\n",
              "\n",
              "          const docLinkHtml = 'Like what you see? Visit the ' +\n",
              "            '<a target=\"_blank\" href=https://colab.research.google.com/notebooks/data_table.ipynb>data table notebook</a>'\n",
              "            + ' to learn more about interactive tables.';\n",
              "          element.innerHTML = '';\n",
              "          dataTable['output_type'] = 'display_data';\n",
              "          await google.colab.output.renderOutput(dataTable, element);\n",
              "          const docLink = document.createElement('div');\n",
              "          docLink.innerHTML = docLinkHtml;\n",
              "          element.appendChild(docLink);\n",
              "        }\n",
              "      </script>\n",
              "    </div>\n",
              "  </div>\n",
              "  "
            ]
          },
          "metadata": {},
          "execution_count": 176
        }
      ]
    },
    {
      "cell_type": "markdown",
      "source": [
        "#Tratando a coluna Phone para torná-la um Dataframe"
      ],
      "metadata": {
        "id": "zqzSBQdSOsfa"
      }
    },
    {
      "cell_type": "code",
      "source": [
        "dados_phone = pd.json_normalize(data=dados.phone)\n",
        "dados_phone.head(5)"
      ],
      "metadata": {
        "colab": {
          "base_uri": "https://localhost:8080/",
          "height": 206
        },
        "id": "j6X_mweX1-Jz",
        "outputId": "50922997-f57d-43a5-ec33-54567b0ce67c"
      },
      "execution_count": 177,
      "outputs": [
        {
          "output_type": "execute_result",
          "data": {
            "text/plain": [
              "  PhoneService MultipleLines\n",
              "0          Yes            No\n",
              "1          Yes           Yes\n",
              "2          Yes            No\n",
              "3          Yes            No\n",
              "4          Yes            No"
            ],
            "text/html": [
              "\n",
              "  <div id=\"df-0edcfd95-f869-48ed-8cc9-7229d2e59bd9\">\n",
              "    <div class=\"colab-df-container\">\n",
              "      <div>\n",
              "<style scoped>\n",
              "    .dataframe tbody tr th:only-of-type {\n",
              "        vertical-align: middle;\n",
              "    }\n",
              "\n",
              "    .dataframe tbody tr th {\n",
              "        vertical-align: top;\n",
              "    }\n",
              "\n",
              "    .dataframe thead th {\n",
              "        text-align: right;\n",
              "    }\n",
              "</style>\n",
              "<table border=\"1\" class=\"dataframe\">\n",
              "  <thead>\n",
              "    <tr style=\"text-align: right;\">\n",
              "      <th></th>\n",
              "      <th>PhoneService</th>\n",
              "      <th>MultipleLines</th>\n",
              "    </tr>\n",
              "  </thead>\n",
              "  <tbody>\n",
              "    <tr>\n",
              "      <th>0</th>\n",
              "      <td>Yes</td>\n",
              "      <td>No</td>\n",
              "    </tr>\n",
              "    <tr>\n",
              "      <th>1</th>\n",
              "      <td>Yes</td>\n",
              "      <td>Yes</td>\n",
              "    </tr>\n",
              "    <tr>\n",
              "      <th>2</th>\n",
              "      <td>Yes</td>\n",
              "      <td>No</td>\n",
              "    </tr>\n",
              "    <tr>\n",
              "      <th>3</th>\n",
              "      <td>Yes</td>\n",
              "      <td>No</td>\n",
              "    </tr>\n",
              "    <tr>\n",
              "      <th>4</th>\n",
              "      <td>Yes</td>\n",
              "      <td>No</td>\n",
              "    </tr>\n",
              "  </tbody>\n",
              "</table>\n",
              "</div>\n",
              "      <button class=\"colab-df-convert\" onclick=\"convertToInteractive('df-0edcfd95-f869-48ed-8cc9-7229d2e59bd9')\"\n",
              "              title=\"Convert this dataframe to an interactive table.\"\n",
              "              style=\"display:none;\">\n",
              "        \n",
              "  <svg xmlns=\"http://www.w3.org/2000/svg\" height=\"24px\"viewBox=\"0 0 24 24\"\n",
              "       width=\"24px\">\n",
              "    <path d=\"M0 0h24v24H0V0z\" fill=\"none\"/>\n",
              "    <path d=\"M18.56 5.44l.94 2.06.94-2.06 2.06-.94-2.06-.94-.94-2.06-.94 2.06-2.06.94zm-11 1L8.5 8.5l.94-2.06 2.06-.94-2.06-.94L8.5 2.5l-.94 2.06-2.06.94zm10 10l.94 2.06.94-2.06 2.06-.94-2.06-.94-.94-2.06-.94 2.06-2.06.94z\"/><path d=\"M17.41 7.96l-1.37-1.37c-.4-.4-.92-.59-1.43-.59-.52 0-1.04.2-1.43.59L10.3 9.45l-7.72 7.72c-.78.78-.78 2.05 0 2.83L4 21.41c.39.39.9.59 1.41.59.51 0 1.02-.2 1.41-.59l7.78-7.78 2.81-2.81c.8-.78.8-2.07 0-2.86zM5.41 20L4 18.59l7.72-7.72 1.47 1.35L5.41 20z\"/>\n",
              "  </svg>\n",
              "      </button>\n",
              "      \n",
              "  <style>\n",
              "    .colab-df-container {\n",
              "      display:flex;\n",
              "      flex-wrap:wrap;\n",
              "      gap: 12px;\n",
              "    }\n",
              "\n",
              "    .colab-df-convert {\n",
              "      background-color: #E8F0FE;\n",
              "      border: none;\n",
              "      border-radius: 50%;\n",
              "      cursor: pointer;\n",
              "      display: none;\n",
              "      fill: #1967D2;\n",
              "      height: 32px;\n",
              "      padding: 0 0 0 0;\n",
              "      width: 32px;\n",
              "    }\n",
              "\n",
              "    .colab-df-convert:hover {\n",
              "      background-color: #E2EBFA;\n",
              "      box-shadow: 0px 1px 2px rgba(60, 64, 67, 0.3), 0px 1px 3px 1px rgba(60, 64, 67, 0.15);\n",
              "      fill: #174EA6;\n",
              "    }\n",
              "\n",
              "    [theme=dark] .colab-df-convert {\n",
              "      background-color: #3B4455;\n",
              "      fill: #D2E3FC;\n",
              "    }\n",
              "\n",
              "    [theme=dark] .colab-df-convert:hover {\n",
              "      background-color: #434B5C;\n",
              "      box-shadow: 0px 1px 3px 1px rgba(0, 0, 0, 0.15);\n",
              "      filter: drop-shadow(0px 1px 2px rgba(0, 0, 0, 0.3));\n",
              "      fill: #FFFFFF;\n",
              "    }\n",
              "  </style>\n",
              "\n",
              "      <script>\n",
              "        const buttonEl =\n",
              "          document.querySelector('#df-0edcfd95-f869-48ed-8cc9-7229d2e59bd9 button.colab-df-convert');\n",
              "        buttonEl.style.display =\n",
              "          google.colab.kernel.accessAllowed ? 'block' : 'none';\n",
              "\n",
              "        async function convertToInteractive(key) {\n",
              "          const element = document.querySelector('#df-0edcfd95-f869-48ed-8cc9-7229d2e59bd9');\n",
              "          const dataTable =\n",
              "            await google.colab.kernel.invokeFunction('convertToInteractive',\n",
              "                                                     [key], {});\n",
              "          if (!dataTable) return;\n",
              "\n",
              "          const docLinkHtml = 'Like what you see? Visit the ' +\n",
              "            '<a target=\"_blank\" href=https://colab.research.google.com/notebooks/data_table.ipynb>data table notebook</a>'\n",
              "            + ' to learn more about interactive tables.';\n",
              "          element.innerHTML = '';\n",
              "          dataTable['output_type'] = 'display_data';\n",
              "          await google.colab.output.renderOutput(dataTable, element);\n",
              "          const docLink = document.createElement('div');\n",
              "          docLink.innerHTML = docLinkHtml;\n",
              "          element.appendChild(docLink);\n",
              "        }\n",
              "      </script>\n",
              "    </div>\n",
              "  </div>\n",
              "  "
            ]
          },
          "metadata": {},
          "execution_count": 177
        }
      ]
    },
    {
      "cell_type": "markdown",
      "source": [
        "##Tratando a coluna Internet para torná-la um Dataframe"
      ],
      "metadata": {
        "id": "Bbaw3pAFPHYJ"
      }
    },
    {
      "cell_type": "code",
      "source": [
        "dados_internet = pd.json_normalize(data=dados.internet)\n",
        "dados_internet.head(5)"
      ],
      "metadata": {
        "colab": {
          "base_uri": "https://localhost:8080/",
          "height": 206
        },
        "id": "o0fHncjw2F1b",
        "outputId": "9757134a-5ecb-4dc5-d525-f8b8f7eea3f9"
      },
      "execution_count": 178,
      "outputs": [
        {
          "output_type": "execute_result",
          "data": {
            "text/plain": [
              "  InternetService OnlineSecurity OnlineBackup DeviceProtection TechSupport  \\\n",
              "0             DSL             No          Yes               No         Yes   \n",
              "1             DSL             No           No               No          No   \n",
              "2     Fiber optic             No           No              Yes          No   \n",
              "3     Fiber optic             No          Yes              Yes          No   \n",
              "4     Fiber optic             No           No               No         Yes   \n",
              "\n",
              "  StreamingTV StreamingMovies  \n",
              "0         Yes              No  \n",
              "1          No             Yes  \n",
              "2          No              No  \n",
              "3         Yes             Yes  \n",
              "4         Yes              No  "
            ],
            "text/html": [
              "\n",
              "  <div id=\"df-e760861e-1dc5-41c3-b6a6-7470107aa050\">\n",
              "    <div class=\"colab-df-container\">\n",
              "      <div>\n",
              "<style scoped>\n",
              "    .dataframe tbody tr th:only-of-type {\n",
              "        vertical-align: middle;\n",
              "    }\n",
              "\n",
              "    .dataframe tbody tr th {\n",
              "        vertical-align: top;\n",
              "    }\n",
              "\n",
              "    .dataframe thead th {\n",
              "        text-align: right;\n",
              "    }\n",
              "</style>\n",
              "<table border=\"1\" class=\"dataframe\">\n",
              "  <thead>\n",
              "    <tr style=\"text-align: right;\">\n",
              "      <th></th>\n",
              "      <th>InternetService</th>\n",
              "      <th>OnlineSecurity</th>\n",
              "      <th>OnlineBackup</th>\n",
              "      <th>DeviceProtection</th>\n",
              "      <th>TechSupport</th>\n",
              "      <th>StreamingTV</th>\n",
              "      <th>StreamingMovies</th>\n",
              "    </tr>\n",
              "  </thead>\n",
              "  <tbody>\n",
              "    <tr>\n",
              "      <th>0</th>\n",
              "      <td>DSL</td>\n",
              "      <td>No</td>\n",
              "      <td>Yes</td>\n",
              "      <td>No</td>\n",
              "      <td>Yes</td>\n",
              "      <td>Yes</td>\n",
              "      <td>No</td>\n",
              "    </tr>\n",
              "    <tr>\n",
              "      <th>1</th>\n",
              "      <td>DSL</td>\n",
              "      <td>No</td>\n",
              "      <td>No</td>\n",
              "      <td>No</td>\n",
              "      <td>No</td>\n",
              "      <td>No</td>\n",
              "      <td>Yes</td>\n",
              "    </tr>\n",
              "    <tr>\n",
              "      <th>2</th>\n",
              "      <td>Fiber optic</td>\n",
              "      <td>No</td>\n",
              "      <td>No</td>\n",
              "      <td>Yes</td>\n",
              "      <td>No</td>\n",
              "      <td>No</td>\n",
              "      <td>No</td>\n",
              "    </tr>\n",
              "    <tr>\n",
              "      <th>3</th>\n",
              "      <td>Fiber optic</td>\n",
              "      <td>No</td>\n",
              "      <td>Yes</td>\n",
              "      <td>Yes</td>\n",
              "      <td>No</td>\n",
              "      <td>Yes</td>\n",
              "      <td>Yes</td>\n",
              "    </tr>\n",
              "    <tr>\n",
              "      <th>4</th>\n",
              "      <td>Fiber optic</td>\n",
              "      <td>No</td>\n",
              "      <td>No</td>\n",
              "      <td>No</td>\n",
              "      <td>Yes</td>\n",
              "      <td>Yes</td>\n",
              "      <td>No</td>\n",
              "    </tr>\n",
              "  </tbody>\n",
              "</table>\n",
              "</div>\n",
              "      <button class=\"colab-df-convert\" onclick=\"convertToInteractive('df-e760861e-1dc5-41c3-b6a6-7470107aa050')\"\n",
              "              title=\"Convert this dataframe to an interactive table.\"\n",
              "              style=\"display:none;\">\n",
              "        \n",
              "  <svg xmlns=\"http://www.w3.org/2000/svg\" height=\"24px\"viewBox=\"0 0 24 24\"\n",
              "       width=\"24px\">\n",
              "    <path d=\"M0 0h24v24H0V0z\" fill=\"none\"/>\n",
              "    <path d=\"M18.56 5.44l.94 2.06.94-2.06 2.06-.94-2.06-.94-.94-2.06-.94 2.06-2.06.94zm-11 1L8.5 8.5l.94-2.06 2.06-.94-2.06-.94L8.5 2.5l-.94 2.06-2.06.94zm10 10l.94 2.06.94-2.06 2.06-.94-2.06-.94-.94-2.06-.94 2.06-2.06.94z\"/><path d=\"M17.41 7.96l-1.37-1.37c-.4-.4-.92-.59-1.43-.59-.52 0-1.04.2-1.43.59L10.3 9.45l-7.72 7.72c-.78.78-.78 2.05 0 2.83L4 21.41c.39.39.9.59 1.41.59.51 0 1.02-.2 1.41-.59l7.78-7.78 2.81-2.81c.8-.78.8-2.07 0-2.86zM5.41 20L4 18.59l7.72-7.72 1.47 1.35L5.41 20z\"/>\n",
              "  </svg>\n",
              "      </button>\n",
              "      \n",
              "  <style>\n",
              "    .colab-df-container {\n",
              "      display:flex;\n",
              "      flex-wrap:wrap;\n",
              "      gap: 12px;\n",
              "    }\n",
              "\n",
              "    .colab-df-convert {\n",
              "      background-color: #E8F0FE;\n",
              "      border: none;\n",
              "      border-radius: 50%;\n",
              "      cursor: pointer;\n",
              "      display: none;\n",
              "      fill: #1967D2;\n",
              "      height: 32px;\n",
              "      padding: 0 0 0 0;\n",
              "      width: 32px;\n",
              "    }\n",
              "\n",
              "    .colab-df-convert:hover {\n",
              "      background-color: #E2EBFA;\n",
              "      box-shadow: 0px 1px 2px rgba(60, 64, 67, 0.3), 0px 1px 3px 1px rgba(60, 64, 67, 0.15);\n",
              "      fill: #174EA6;\n",
              "    }\n",
              "\n",
              "    [theme=dark] .colab-df-convert {\n",
              "      background-color: #3B4455;\n",
              "      fill: #D2E3FC;\n",
              "    }\n",
              "\n",
              "    [theme=dark] .colab-df-convert:hover {\n",
              "      background-color: #434B5C;\n",
              "      box-shadow: 0px 1px 3px 1px rgba(0, 0, 0, 0.15);\n",
              "      filter: drop-shadow(0px 1px 2px rgba(0, 0, 0, 0.3));\n",
              "      fill: #FFFFFF;\n",
              "    }\n",
              "  </style>\n",
              "\n",
              "      <script>\n",
              "        const buttonEl =\n",
              "          document.querySelector('#df-e760861e-1dc5-41c3-b6a6-7470107aa050 button.colab-df-convert');\n",
              "        buttonEl.style.display =\n",
              "          google.colab.kernel.accessAllowed ? 'block' : 'none';\n",
              "\n",
              "        async function convertToInteractive(key) {\n",
              "          const element = document.querySelector('#df-e760861e-1dc5-41c3-b6a6-7470107aa050');\n",
              "          const dataTable =\n",
              "            await google.colab.kernel.invokeFunction('convertToInteractive',\n",
              "                                                     [key], {});\n",
              "          if (!dataTable) return;\n",
              "\n",
              "          const docLinkHtml = 'Like what you see? Visit the ' +\n",
              "            '<a target=\"_blank\" href=https://colab.research.google.com/notebooks/data_table.ipynb>data table notebook</a>'\n",
              "            + ' to learn more about interactive tables.';\n",
              "          element.innerHTML = '';\n",
              "          dataTable['output_type'] = 'display_data';\n",
              "          await google.colab.output.renderOutput(dataTable, element);\n",
              "          const docLink = document.createElement('div');\n",
              "          docLink.innerHTML = docLinkHtml;\n",
              "          element.appendChild(docLink);\n",
              "        }\n",
              "      </script>\n",
              "    </div>\n",
              "  </div>\n",
              "  "
            ]
          },
          "metadata": {},
          "execution_count": 178
        }
      ]
    },
    {
      "cell_type": "markdown",
      "source": [
        "#Tratando a coluna Account para torná-la um Dataframe"
      ],
      "metadata": {
        "id": "z8RhBnn8PMEx"
      }
    },
    {
      "cell_type": "code",
      "source": [
        "dados_account = pd.json_normalize(data=dados.account)\n",
        "dados_account.head(5)"
      ],
      "metadata": {
        "colab": {
          "base_uri": "https://localhost:8080/",
          "height": 206
        },
        "id": "fpLQfIiS2kAj",
        "outputId": "646ffd5e-245c-4cc0-fb2e-1f4d6b5f0d36"
      },
      "execution_count": 179,
      "outputs": [
        {
          "output_type": "execute_result",
          "data": {
            "text/plain": [
              "         Contract PaperlessBilling     PaymentMethod  Charges.Monthly  \\\n",
              "0        One year              Yes      Mailed check             65.6   \n",
              "1  Month-to-month               No      Mailed check             59.9   \n",
              "2  Month-to-month              Yes  Electronic check             73.9   \n",
              "3  Month-to-month              Yes  Electronic check             98.0   \n",
              "4  Month-to-month              Yes      Mailed check             83.9   \n",
              "\n",
              "  Charges.Total  \n",
              "0         593.3  \n",
              "1         542.4  \n",
              "2        280.85  \n",
              "3       1237.85  \n",
              "4         267.4  "
            ],
            "text/html": [
              "\n",
              "  <div id=\"df-7c52e18b-1e69-4368-89b8-d5869b8ccaf3\">\n",
              "    <div class=\"colab-df-container\">\n",
              "      <div>\n",
              "<style scoped>\n",
              "    .dataframe tbody tr th:only-of-type {\n",
              "        vertical-align: middle;\n",
              "    }\n",
              "\n",
              "    .dataframe tbody tr th {\n",
              "        vertical-align: top;\n",
              "    }\n",
              "\n",
              "    .dataframe thead th {\n",
              "        text-align: right;\n",
              "    }\n",
              "</style>\n",
              "<table border=\"1\" class=\"dataframe\">\n",
              "  <thead>\n",
              "    <tr style=\"text-align: right;\">\n",
              "      <th></th>\n",
              "      <th>Contract</th>\n",
              "      <th>PaperlessBilling</th>\n",
              "      <th>PaymentMethod</th>\n",
              "      <th>Charges.Monthly</th>\n",
              "      <th>Charges.Total</th>\n",
              "    </tr>\n",
              "  </thead>\n",
              "  <tbody>\n",
              "    <tr>\n",
              "      <th>0</th>\n",
              "      <td>One year</td>\n",
              "      <td>Yes</td>\n",
              "      <td>Mailed check</td>\n",
              "      <td>65.6</td>\n",
              "      <td>593.3</td>\n",
              "    </tr>\n",
              "    <tr>\n",
              "      <th>1</th>\n",
              "      <td>Month-to-month</td>\n",
              "      <td>No</td>\n",
              "      <td>Mailed check</td>\n",
              "      <td>59.9</td>\n",
              "      <td>542.4</td>\n",
              "    </tr>\n",
              "    <tr>\n",
              "      <th>2</th>\n",
              "      <td>Month-to-month</td>\n",
              "      <td>Yes</td>\n",
              "      <td>Electronic check</td>\n",
              "      <td>73.9</td>\n",
              "      <td>280.85</td>\n",
              "    </tr>\n",
              "    <tr>\n",
              "      <th>3</th>\n",
              "      <td>Month-to-month</td>\n",
              "      <td>Yes</td>\n",
              "      <td>Electronic check</td>\n",
              "      <td>98.0</td>\n",
              "      <td>1237.85</td>\n",
              "    </tr>\n",
              "    <tr>\n",
              "      <th>4</th>\n",
              "      <td>Month-to-month</td>\n",
              "      <td>Yes</td>\n",
              "      <td>Mailed check</td>\n",
              "      <td>83.9</td>\n",
              "      <td>267.4</td>\n",
              "    </tr>\n",
              "  </tbody>\n",
              "</table>\n",
              "</div>\n",
              "      <button class=\"colab-df-convert\" onclick=\"convertToInteractive('df-7c52e18b-1e69-4368-89b8-d5869b8ccaf3')\"\n",
              "              title=\"Convert this dataframe to an interactive table.\"\n",
              "              style=\"display:none;\">\n",
              "        \n",
              "  <svg xmlns=\"http://www.w3.org/2000/svg\" height=\"24px\"viewBox=\"0 0 24 24\"\n",
              "       width=\"24px\">\n",
              "    <path d=\"M0 0h24v24H0V0z\" fill=\"none\"/>\n",
              "    <path d=\"M18.56 5.44l.94 2.06.94-2.06 2.06-.94-2.06-.94-.94-2.06-.94 2.06-2.06.94zm-11 1L8.5 8.5l.94-2.06 2.06-.94-2.06-.94L8.5 2.5l-.94 2.06-2.06.94zm10 10l.94 2.06.94-2.06 2.06-.94-2.06-.94-.94-2.06-.94 2.06-2.06.94z\"/><path d=\"M17.41 7.96l-1.37-1.37c-.4-.4-.92-.59-1.43-.59-.52 0-1.04.2-1.43.59L10.3 9.45l-7.72 7.72c-.78.78-.78 2.05 0 2.83L4 21.41c.39.39.9.59 1.41.59.51 0 1.02-.2 1.41-.59l7.78-7.78 2.81-2.81c.8-.78.8-2.07 0-2.86zM5.41 20L4 18.59l7.72-7.72 1.47 1.35L5.41 20z\"/>\n",
              "  </svg>\n",
              "      </button>\n",
              "      \n",
              "  <style>\n",
              "    .colab-df-container {\n",
              "      display:flex;\n",
              "      flex-wrap:wrap;\n",
              "      gap: 12px;\n",
              "    }\n",
              "\n",
              "    .colab-df-convert {\n",
              "      background-color: #E8F0FE;\n",
              "      border: none;\n",
              "      border-radius: 50%;\n",
              "      cursor: pointer;\n",
              "      display: none;\n",
              "      fill: #1967D2;\n",
              "      height: 32px;\n",
              "      padding: 0 0 0 0;\n",
              "      width: 32px;\n",
              "    }\n",
              "\n",
              "    .colab-df-convert:hover {\n",
              "      background-color: #E2EBFA;\n",
              "      box-shadow: 0px 1px 2px rgba(60, 64, 67, 0.3), 0px 1px 3px 1px rgba(60, 64, 67, 0.15);\n",
              "      fill: #174EA6;\n",
              "    }\n",
              "\n",
              "    [theme=dark] .colab-df-convert {\n",
              "      background-color: #3B4455;\n",
              "      fill: #D2E3FC;\n",
              "    }\n",
              "\n",
              "    [theme=dark] .colab-df-convert:hover {\n",
              "      background-color: #434B5C;\n",
              "      box-shadow: 0px 1px 3px 1px rgba(0, 0, 0, 0.15);\n",
              "      filter: drop-shadow(0px 1px 2px rgba(0, 0, 0, 0.3));\n",
              "      fill: #FFFFFF;\n",
              "    }\n",
              "  </style>\n",
              "\n",
              "      <script>\n",
              "        const buttonEl =\n",
              "          document.querySelector('#df-7c52e18b-1e69-4368-89b8-d5869b8ccaf3 button.colab-df-convert');\n",
              "        buttonEl.style.display =\n",
              "          google.colab.kernel.accessAllowed ? 'block' : 'none';\n",
              "\n",
              "        async function convertToInteractive(key) {\n",
              "          const element = document.querySelector('#df-7c52e18b-1e69-4368-89b8-d5869b8ccaf3');\n",
              "          const dataTable =\n",
              "            await google.colab.kernel.invokeFunction('convertToInteractive',\n",
              "                                                     [key], {});\n",
              "          if (!dataTable) return;\n",
              "\n",
              "          const docLinkHtml = 'Like what you see? Visit the ' +\n",
              "            '<a target=\"_blank\" href=https://colab.research.google.com/notebooks/data_table.ipynb>data table notebook</a>'\n",
              "            + ' to learn more about interactive tables.';\n",
              "          element.innerHTML = '';\n",
              "          dataTable['output_type'] = 'display_data';\n",
              "          await google.colab.output.renderOutput(dataTable, element);\n",
              "          const docLink = document.createElement('div');\n",
              "          docLink.innerHTML = docLinkHtml;\n",
              "          element.appendChild(docLink);\n",
              "        }\n",
              "      </script>\n",
              "    </div>\n",
              "  </div>\n",
              "  "
            ]
          },
          "metadata": {},
          "execution_count": 179
        }
      ]
    },
    {
      "cell_type": "markdown",
      "source": [
        "#Concatenando Lateralmente as Colunas"
      ],
      "metadata": {
        "id": "5bmeJzcqPTKp"
      }
    },
    {
      "cell_type": "code",
      "source": [
        "df_aluravoz = pd.concat([dados.customerID, dados.Churn,dados_customer,dados_phone,dados_internet,dados_account], axis=1)\n",
        "df_aluravoz"
      ],
      "metadata": {
        "colab": {
          "base_uri": "https://localhost:8080/",
          "height": 644
        },
        "id": "QXX637Tt6Vh0",
        "outputId": "cf63f2c4-88a9-4275-e9a9-35a932a5d07e"
      },
      "execution_count": 180,
      "outputs": [
        {
          "output_type": "execute_result",
          "data": {
            "text/plain": [
              "      customerID Churn  gender  SeniorCitizen Partner Dependents  tenure  \\\n",
              "0     0002-ORFBO    No  Female              0     Yes        Yes       9   \n",
              "1     0003-MKNFE    No    Male              0      No         No       9   \n",
              "2     0004-TLHLJ   Yes    Male              0      No         No       4   \n",
              "3     0011-IGKFF   Yes    Male              1     Yes         No      13   \n",
              "4     0013-EXCHZ   Yes  Female              1     Yes         No       3   \n",
              "...          ...   ...     ...            ...     ...        ...     ...   \n",
              "7262  9987-LUTYD    No  Female              0      No         No      13   \n",
              "7263  9992-RRAMN   Yes    Male              0     Yes         No      22   \n",
              "7264  9992-UJOEL    No    Male              0      No         No       2   \n",
              "7265  9993-LHIEB    No    Male              0     Yes        Yes      67   \n",
              "7266  9995-HOTOH    No    Male              0     Yes        Yes      63   \n",
              "\n",
              "     PhoneService     MultipleLines InternetService  ... OnlineBackup  \\\n",
              "0             Yes                No             DSL  ...          Yes   \n",
              "1             Yes               Yes             DSL  ...           No   \n",
              "2             Yes                No     Fiber optic  ...           No   \n",
              "3             Yes                No     Fiber optic  ...          Yes   \n",
              "4             Yes                No     Fiber optic  ...           No   \n",
              "...           ...               ...             ...  ...          ...   \n",
              "7262          Yes                No             DSL  ...           No   \n",
              "7263          Yes               Yes     Fiber optic  ...           No   \n",
              "7264          Yes                No             DSL  ...          Yes   \n",
              "7265          Yes                No             DSL  ...           No   \n",
              "7266           No  No phone service             DSL  ...          Yes   \n",
              "\n",
              "     DeviceProtection TechSupport StreamingTV StreamingMovies        Contract  \\\n",
              "0                  No         Yes         Yes              No        One year   \n",
              "1                  No          No          No             Yes  Month-to-month   \n",
              "2                 Yes          No          No              No  Month-to-month   \n",
              "3                 Yes          No         Yes             Yes  Month-to-month   \n",
              "4                  No         Yes         Yes              No  Month-to-month   \n",
              "...               ...         ...         ...             ...             ...   \n",
              "7262               No         Yes          No              No        One year   \n",
              "7263               No          No          No             Yes  Month-to-month   \n",
              "7264               No          No          No              No  Month-to-month   \n",
              "7265              Yes         Yes          No             Yes        Two year   \n",
              "7266              Yes          No         Yes             Yes        Two year   \n",
              "\n",
              "     PaperlessBilling     PaymentMethod Charges.Monthly  Charges.Total  \n",
              "0                 Yes      Mailed check           65.60          593.3  \n",
              "1                  No      Mailed check           59.90          542.4  \n",
              "2                 Yes  Electronic check           73.90         280.85  \n",
              "3                 Yes  Electronic check           98.00        1237.85  \n",
              "4                 Yes      Mailed check           83.90          267.4  \n",
              "...               ...               ...             ...            ...  \n",
              "7262               No      Mailed check           55.15          742.9  \n",
              "7263              Yes  Electronic check           85.10         1873.7  \n",
              "7264              Yes      Mailed check           50.30          92.75  \n",
              "7265               No      Mailed check           67.85        4627.65  \n",
              "7266               No  Electronic check           59.00         3707.6  \n",
              "\n",
              "[7267 rows x 21 columns]"
            ],
            "text/html": [
              "\n",
              "  <div id=\"df-a63f68ee-54d5-4a8a-853f-31601db2a80d\">\n",
              "    <div class=\"colab-df-container\">\n",
              "      <div>\n",
              "<style scoped>\n",
              "    .dataframe tbody tr th:only-of-type {\n",
              "        vertical-align: middle;\n",
              "    }\n",
              "\n",
              "    .dataframe tbody tr th {\n",
              "        vertical-align: top;\n",
              "    }\n",
              "\n",
              "    .dataframe thead th {\n",
              "        text-align: right;\n",
              "    }\n",
              "</style>\n",
              "<table border=\"1\" class=\"dataframe\">\n",
              "  <thead>\n",
              "    <tr style=\"text-align: right;\">\n",
              "      <th></th>\n",
              "      <th>customerID</th>\n",
              "      <th>Churn</th>\n",
              "      <th>gender</th>\n",
              "      <th>SeniorCitizen</th>\n",
              "      <th>Partner</th>\n",
              "      <th>Dependents</th>\n",
              "      <th>tenure</th>\n",
              "      <th>PhoneService</th>\n",
              "      <th>MultipleLines</th>\n",
              "      <th>InternetService</th>\n",
              "      <th>...</th>\n",
              "      <th>OnlineBackup</th>\n",
              "      <th>DeviceProtection</th>\n",
              "      <th>TechSupport</th>\n",
              "      <th>StreamingTV</th>\n",
              "      <th>StreamingMovies</th>\n",
              "      <th>Contract</th>\n",
              "      <th>PaperlessBilling</th>\n",
              "      <th>PaymentMethod</th>\n",
              "      <th>Charges.Monthly</th>\n",
              "      <th>Charges.Total</th>\n",
              "    </tr>\n",
              "  </thead>\n",
              "  <tbody>\n",
              "    <tr>\n",
              "      <th>0</th>\n",
              "      <td>0002-ORFBO</td>\n",
              "      <td>No</td>\n",
              "      <td>Female</td>\n",
              "      <td>0</td>\n",
              "      <td>Yes</td>\n",
              "      <td>Yes</td>\n",
              "      <td>9</td>\n",
              "      <td>Yes</td>\n",
              "      <td>No</td>\n",
              "      <td>DSL</td>\n",
              "      <td>...</td>\n",
              "      <td>Yes</td>\n",
              "      <td>No</td>\n",
              "      <td>Yes</td>\n",
              "      <td>Yes</td>\n",
              "      <td>No</td>\n",
              "      <td>One year</td>\n",
              "      <td>Yes</td>\n",
              "      <td>Mailed check</td>\n",
              "      <td>65.60</td>\n",
              "      <td>593.3</td>\n",
              "    </tr>\n",
              "    <tr>\n",
              "      <th>1</th>\n",
              "      <td>0003-MKNFE</td>\n",
              "      <td>No</td>\n",
              "      <td>Male</td>\n",
              "      <td>0</td>\n",
              "      <td>No</td>\n",
              "      <td>No</td>\n",
              "      <td>9</td>\n",
              "      <td>Yes</td>\n",
              "      <td>Yes</td>\n",
              "      <td>DSL</td>\n",
              "      <td>...</td>\n",
              "      <td>No</td>\n",
              "      <td>No</td>\n",
              "      <td>No</td>\n",
              "      <td>No</td>\n",
              "      <td>Yes</td>\n",
              "      <td>Month-to-month</td>\n",
              "      <td>No</td>\n",
              "      <td>Mailed check</td>\n",
              "      <td>59.90</td>\n",
              "      <td>542.4</td>\n",
              "    </tr>\n",
              "    <tr>\n",
              "      <th>2</th>\n",
              "      <td>0004-TLHLJ</td>\n",
              "      <td>Yes</td>\n",
              "      <td>Male</td>\n",
              "      <td>0</td>\n",
              "      <td>No</td>\n",
              "      <td>No</td>\n",
              "      <td>4</td>\n",
              "      <td>Yes</td>\n",
              "      <td>No</td>\n",
              "      <td>Fiber optic</td>\n",
              "      <td>...</td>\n",
              "      <td>No</td>\n",
              "      <td>Yes</td>\n",
              "      <td>No</td>\n",
              "      <td>No</td>\n",
              "      <td>No</td>\n",
              "      <td>Month-to-month</td>\n",
              "      <td>Yes</td>\n",
              "      <td>Electronic check</td>\n",
              "      <td>73.90</td>\n",
              "      <td>280.85</td>\n",
              "    </tr>\n",
              "    <tr>\n",
              "      <th>3</th>\n",
              "      <td>0011-IGKFF</td>\n",
              "      <td>Yes</td>\n",
              "      <td>Male</td>\n",
              "      <td>1</td>\n",
              "      <td>Yes</td>\n",
              "      <td>No</td>\n",
              "      <td>13</td>\n",
              "      <td>Yes</td>\n",
              "      <td>No</td>\n",
              "      <td>Fiber optic</td>\n",
              "      <td>...</td>\n",
              "      <td>Yes</td>\n",
              "      <td>Yes</td>\n",
              "      <td>No</td>\n",
              "      <td>Yes</td>\n",
              "      <td>Yes</td>\n",
              "      <td>Month-to-month</td>\n",
              "      <td>Yes</td>\n",
              "      <td>Electronic check</td>\n",
              "      <td>98.00</td>\n",
              "      <td>1237.85</td>\n",
              "    </tr>\n",
              "    <tr>\n",
              "      <th>4</th>\n",
              "      <td>0013-EXCHZ</td>\n",
              "      <td>Yes</td>\n",
              "      <td>Female</td>\n",
              "      <td>1</td>\n",
              "      <td>Yes</td>\n",
              "      <td>No</td>\n",
              "      <td>3</td>\n",
              "      <td>Yes</td>\n",
              "      <td>No</td>\n",
              "      <td>Fiber optic</td>\n",
              "      <td>...</td>\n",
              "      <td>No</td>\n",
              "      <td>No</td>\n",
              "      <td>Yes</td>\n",
              "      <td>Yes</td>\n",
              "      <td>No</td>\n",
              "      <td>Month-to-month</td>\n",
              "      <td>Yes</td>\n",
              "      <td>Mailed check</td>\n",
              "      <td>83.90</td>\n",
              "      <td>267.4</td>\n",
              "    </tr>\n",
              "    <tr>\n",
              "      <th>...</th>\n",
              "      <td>...</td>\n",
              "      <td>...</td>\n",
              "      <td>...</td>\n",
              "      <td>...</td>\n",
              "      <td>...</td>\n",
              "      <td>...</td>\n",
              "      <td>...</td>\n",
              "      <td>...</td>\n",
              "      <td>...</td>\n",
              "      <td>...</td>\n",
              "      <td>...</td>\n",
              "      <td>...</td>\n",
              "      <td>...</td>\n",
              "      <td>...</td>\n",
              "      <td>...</td>\n",
              "      <td>...</td>\n",
              "      <td>...</td>\n",
              "      <td>...</td>\n",
              "      <td>...</td>\n",
              "      <td>...</td>\n",
              "      <td>...</td>\n",
              "    </tr>\n",
              "    <tr>\n",
              "      <th>7262</th>\n",
              "      <td>9987-LUTYD</td>\n",
              "      <td>No</td>\n",
              "      <td>Female</td>\n",
              "      <td>0</td>\n",
              "      <td>No</td>\n",
              "      <td>No</td>\n",
              "      <td>13</td>\n",
              "      <td>Yes</td>\n",
              "      <td>No</td>\n",
              "      <td>DSL</td>\n",
              "      <td>...</td>\n",
              "      <td>No</td>\n",
              "      <td>No</td>\n",
              "      <td>Yes</td>\n",
              "      <td>No</td>\n",
              "      <td>No</td>\n",
              "      <td>One year</td>\n",
              "      <td>No</td>\n",
              "      <td>Mailed check</td>\n",
              "      <td>55.15</td>\n",
              "      <td>742.9</td>\n",
              "    </tr>\n",
              "    <tr>\n",
              "      <th>7263</th>\n",
              "      <td>9992-RRAMN</td>\n",
              "      <td>Yes</td>\n",
              "      <td>Male</td>\n",
              "      <td>0</td>\n",
              "      <td>Yes</td>\n",
              "      <td>No</td>\n",
              "      <td>22</td>\n",
              "      <td>Yes</td>\n",
              "      <td>Yes</td>\n",
              "      <td>Fiber optic</td>\n",
              "      <td>...</td>\n",
              "      <td>No</td>\n",
              "      <td>No</td>\n",
              "      <td>No</td>\n",
              "      <td>No</td>\n",
              "      <td>Yes</td>\n",
              "      <td>Month-to-month</td>\n",
              "      <td>Yes</td>\n",
              "      <td>Electronic check</td>\n",
              "      <td>85.10</td>\n",
              "      <td>1873.7</td>\n",
              "    </tr>\n",
              "    <tr>\n",
              "      <th>7264</th>\n",
              "      <td>9992-UJOEL</td>\n",
              "      <td>No</td>\n",
              "      <td>Male</td>\n",
              "      <td>0</td>\n",
              "      <td>No</td>\n",
              "      <td>No</td>\n",
              "      <td>2</td>\n",
              "      <td>Yes</td>\n",
              "      <td>No</td>\n",
              "      <td>DSL</td>\n",
              "      <td>...</td>\n",
              "      <td>Yes</td>\n",
              "      <td>No</td>\n",
              "      <td>No</td>\n",
              "      <td>No</td>\n",
              "      <td>No</td>\n",
              "      <td>Month-to-month</td>\n",
              "      <td>Yes</td>\n",
              "      <td>Mailed check</td>\n",
              "      <td>50.30</td>\n",
              "      <td>92.75</td>\n",
              "    </tr>\n",
              "    <tr>\n",
              "      <th>7265</th>\n",
              "      <td>9993-LHIEB</td>\n",
              "      <td>No</td>\n",
              "      <td>Male</td>\n",
              "      <td>0</td>\n",
              "      <td>Yes</td>\n",
              "      <td>Yes</td>\n",
              "      <td>67</td>\n",
              "      <td>Yes</td>\n",
              "      <td>No</td>\n",
              "      <td>DSL</td>\n",
              "      <td>...</td>\n",
              "      <td>No</td>\n",
              "      <td>Yes</td>\n",
              "      <td>Yes</td>\n",
              "      <td>No</td>\n",
              "      <td>Yes</td>\n",
              "      <td>Two year</td>\n",
              "      <td>No</td>\n",
              "      <td>Mailed check</td>\n",
              "      <td>67.85</td>\n",
              "      <td>4627.65</td>\n",
              "    </tr>\n",
              "    <tr>\n",
              "      <th>7266</th>\n",
              "      <td>9995-HOTOH</td>\n",
              "      <td>No</td>\n",
              "      <td>Male</td>\n",
              "      <td>0</td>\n",
              "      <td>Yes</td>\n",
              "      <td>Yes</td>\n",
              "      <td>63</td>\n",
              "      <td>No</td>\n",
              "      <td>No phone service</td>\n",
              "      <td>DSL</td>\n",
              "      <td>...</td>\n",
              "      <td>Yes</td>\n",
              "      <td>Yes</td>\n",
              "      <td>No</td>\n",
              "      <td>Yes</td>\n",
              "      <td>Yes</td>\n",
              "      <td>Two year</td>\n",
              "      <td>No</td>\n",
              "      <td>Electronic check</td>\n",
              "      <td>59.00</td>\n",
              "      <td>3707.6</td>\n",
              "    </tr>\n",
              "  </tbody>\n",
              "</table>\n",
              "<p>7267 rows × 21 columns</p>\n",
              "</div>\n",
              "      <button class=\"colab-df-convert\" onclick=\"convertToInteractive('df-a63f68ee-54d5-4a8a-853f-31601db2a80d')\"\n",
              "              title=\"Convert this dataframe to an interactive table.\"\n",
              "              style=\"display:none;\">\n",
              "        \n",
              "  <svg xmlns=\"http://www.w3.org/2000/svg\" height=\"24px\"viewBox=\"0 0 24 24\"\n",
              "       width=\"24px\">\n",
              "    <path d=\"M0 0h24v24H0V0z\" fill=\"none\"/>\n",
              "    <path d=\"M18.56 5.44l.94 2.06.94-2.06 2.06-.94-2.06-.94-.94-2.06-.94 2.06-2.06.94zm-11 1L8.5 8.5l.94-2.06 2.06-.94-2.06-.94L8.5 2.5l-.94 2.06-2.06.94zm10 10l.94 2.06.94-2.06 2.06-.94-2.06-.94-.94-2.06-.94 2.06-2.06.94z\"/><path d=\"M17.41 7.96l-1.37-1.37c-.4-.4-.92-.59-1.43-.59-.52 0-1.04.2-1.43.59L10.3 9.45l-7.72 7.72c-.78.78-.78 2.05 0 2.83L4 21.41c.39.39.9.59 1.41.59.51 0 1.02-.2 1.41-.59l7.78-7.78 2.81-2.81c.8-.78.8-2.07 0-2.86zM5.41 20L4 18.59l7.72-7.72 1.47 1.35L5.41 20z\"/>\n",
              "  </svg>\n",
              "      </button>\n",
              "      \n",
              "  <style>\n",
              "    .colab-df-container {\n",
              "      display:flex;\n",
              "      flex-wrap:wrap;\n",
              "      gap: 12px;\n",
              "    }\n",
              "\n",
              "    .colab-df-convert {\n",
              "      background-color: #E8F0FE;\n",
              "      border: none;\n",
              "      border-radius: 50%;\n",
              "      cursor: pointer;\n",
              "      display: none;\n",
              "      fill: #1967D2;\n",
              "      height: 32px;\n",
              "      padding: 0 0 0 0;\n",
              "      width: 32px;\n",
              "    }\n",
              "\n",
              "    .colab-df-convert:hover {\n",
              "      background-color: #E2EBFA;\n",
              "      box-shadow: 0px 1px 2px rgba(60, 64, 67, 0.3), 0px 1px 3px 1px rgba(60, 64, 67, 0.15);\n",
              "      fill: #174EA6;\n",
              "    }\n",
              "\n",
              "    [theme=dark] .colab-df-convert {\n",
              "      background-color: #3B4455;\n",
              "      fill: #D2E3FC;\n",
              "    }\n",
              "\n",
              "    [theme=dark] .colab-df-convert:hover {\n",
              "      background-color: #434B5C;\n",
              "      box-shadow: 0px 1px 3px 1px rgba(0, 0, 0, 0.15);\n",
              "      filter: drop-shadow(0px 1px 2px rgba(0, 0, 0, 0.3));\n",
              "      fill: #FFFFFF;\n",
              "    }\n",
              "  </style>\n",
              "\n",
              "      <script>\n",
              "        const buttonEl =\n",
              "          document.querySelector('#df-a63f68ee-54d5-4a8a-853f-31601db2a80d button.colab-df-convert');\n",
              "        buttonEl.style.display =\n",
              "          google.colab.kernel.accessAllowed ? 'block' : 'none';\n",
              "\n",
              "        async function convertToInteractive(key) {\n",
              "          const element = document.querySelector('#df-a63f68ee-54d5-4a8a-853f-31601db2a80d');\n",
              "          const dataTable =\n",
              "            await google.colab.kernel.invokeFunction('convertToInteractive',\n",
              "                                                     [key], {});\n",
              "          if (!dataTable) return;\n",
              "\n",
              "          const docLinkHtml = 'Like what you see? Visit the ' +\n",
              "            '<a target=\"_blank\" href=https://colab.research.google.com/notebooks/data_table.ipynb>data table notebook</a>'\n",
              "            + ' to learn more about interactive tables.';\n",
              "          element.innerHTML = '';\n",
              "          dataTable['output_type'] = 'display_data';\n",
              "          await google.colab.output.renderOutput(dataTable, element);\n",
              "          const docLink = document.createElement('div');\n",
              "          docLink.innerHTML = docLinkHtml;\n",
              "          element.appendChild(docLink);\n",
              "        }\n",
              "      </script>\n",
              "    </div>\n",
              "  </div>\n",
              "  "
            ]
          },
          "metadata": {},
          "execution_count": 180
        }
      ]
    },
    {
      "cell_type": "markdown",
      "source": [
        "#Analisando as colunas para tradução e melhor entendimento"
      ],
      "metadata": {
        "id": "cPVAg3RWPcLJ"
      }
    },
    {
      "cell_type": "code",
      "source": [
        "df_aluravoz.columns"
      ],
      "metadata": {
        "colab": {
          "base_uri": "https://localhost:8080/"
        },
        "id": "yCrkuG428lw9",
        "outputId": "dbc3a5ea-80b7-4a5b-e53e-9098f18578be"
      },
      "execution_count": 181,
      "outputs": [
        {
          "output_type": "execute_result",
          "data": {
            "text/plain": [
              "Index(['customerID', 'Churn', 'gender', 'SeniorCitizen', 'Partner',\n",
              "       'Dependents', 'tenure', 'PhoneService', 'MultipleLines',\n",
              "       'InternetService', 'OnlineSecurity', 'OnlineBackup', 'DeviceProtection',\n",
              "       'TechSupport', 'StreamingTV', 'StreamingMovies', 'Contract',\n",
              "       'PaperlessBilling', 'PaymentMethod', 'Charges.Monthly',\n",
              "       'Charges.Total'],\n",
              "      dtype='object')"
            ]
          },
          "metadata": {},
          "execution_count": 181
        }
      ]
    },
    {
      "cell_type": "markdown",
      "source": [
        "#Tradução das colunas para compreensão mais clara"
      ],
      "metadata": {
        "id": "fJxUeuuTPjjh"
      }
    },
    {
      "cell_type": "code",
      "source": [
        "df_aluravoz.rename(columns={'customerID': 'Codigo_Cliente',\n",
        "'Churn': 'Evasao',\n",
        "'gender': 'Genero',\n",
        "'SeniorCitizen': 'Idoso',\n",
        "'Partner': 'Possui_Parceiro',\n",
        "'Dependents': 'Possui_Dependentes',\n",
        "'tenure': 'Meses_Contrato',\n",
        "'PhoneService': 'Assinatura_Telefonica',\n",
        "'MultipleLines': 'Multiplas_Linhas',\n",
        "'InternetService': 'Assinatura_Internet',\n",
        "'OnlineSecurity': 'Assinatura_Segurança',\n",
        "'OnlineBackup': 'Assinatura_Backup_Online',\n",
        "'DeviceProtection': 'Assinatura_Protecao_Dispositivo',\n",
        "'TechSupport': 'Assinatura_Suporte_Tecnico',\n",
        "'StreamingTV': 'Assinatura_Tv_Cabo',\n",
        "'StreamingMovies': 'Streaming_Filmes',\n",
        "'Contract': 'Tipo_Contrato',\n",
        "'PaperlessBilling': 'Fatura_Online',\n",
        "'PaymentMethod': 'Forma_Pagamento',\n",
        "'Charges.Monthly': 'Total_Servicos_Mensal',\n",
        "'Charges.Total': 'Total_Gasto_Cliente'}, inplace = True)"
      ],
      "metadata": {
        "id": "Vo95Bkkt8Z7e"
      },
      "execution_count": 182,
      "outputs": []
    },
    {
      "cell_type": "markdown",
      "source": [
        "#Verificando os tipos de dados de cada Coluna."
      ],
      "metadata": {
        "id": "-Bfu8QLMRvBi"
      }
    },
    {
      "cell_type": "code",
      "source": [
        "df_aluravoz.info()"
      ],
      "metadata": {
        "colab": {
          "base_uri": "https://localhost:8080/"
        },
        "id": "Jij-Gl-gR2ui",
        "outputId": "2acc3cc3-2dd3-4c11-ebf3-3ea571b84755"
      },
      "execution_count": 183,
      "outputs": [
        {
          "output_type": "stream",
          "name": "stdout",
          "text": [
            "<class 'pandas.core.frame.DataFrame'>\n",
            "RangeIndex: 7267 entries, 0 to 7266\n",
            "Data columns (total 21 columns):\n",
            " #   Column                           Non-Null Count  Dtype  \n",
            "---  ------                           --------------  -----  \n",
            " 0   Codigo_Cliente                   7267 non-null   object \n",
            " 1   Evasao                           7267 non-null   object \n",
            " 2   Genero                           7267 non-null   object \n",
            " 3   Idoso                            7267 non-null   int64  \n",
            " 4   Possui_Parceiro                  7267 non-null   object \n",
            " 5   Possui_Dependentes               7267 non-null   object \n",
            " 6   Meses_Contrato                   7267 non-null   int64  \n",
            " 7   Assinatura_Telefonica            7267 non-null   object \n",
            " 8   Multiplas_Linhas                 7267 non-null   object \n",
            " 9   Assinatura_Internet              7267 non-null   object \n",
            " 10  Assinatura_Segurança             7267 non-null   object \n",
            " 11  Assinatura_Backup_Online         7267 non-null   object \n",
            " 12  Assinatura_Protecao_Dispositivo  7267 non-null   object \n",
            " 13  Assinatura_Suporte_Tecnico       7267 non-null   object \n",
            " 14  Assinatura_Tv_Cabo               7267 non-null   object \n",
            " 15  Streaming_Filmes                 7267 non-null   object \n",
            " 16  Tipo_Contrato                    7267 non-null   object \n",
            " 17  Fatura_Online                    7267 non-null   object \n",
            " 18  Forma_Pagamento                  7267 non-null   object \n",
            " 19  Total_Servicos_Mensal            7267 non-null   float64\n",
            " 20  Total_Gasto_Cliente              7267 non-null   object \n",
            "dtypes: float64(1), int64(2), object(18)\n",
            "memory usage: 1.2+ MB\n"
          ]
        }
      ]
    },
    {
      "cell_type": "markdown",
      "source": [
        "#Avaliando se existe algum dado nulo nas colunas"
      ],
      "metadata": {
        "id": "ZhijJc7R1WvU"
      }
    },
    {
      "cell_type": "code",
      "source": [
        "df_aluravoz.isnull().sum()\n",
        "#Este resultado foi melhor tratado em relação à coluna Evasao mais a frente."
      ],
      "metadata": {
        "id": "_RIGA8r31XI8",
        "outputId": "4927d21e-14f7-42ea-a676-e41cc8884954",
        "colab": {
          "base_uri": "https://localhost:8080/"
        }
      },
      "execution_count": 184,
      "outputs": [
        {
          "output_type": "execute_result",
          "data": {
            "text/plain": [
              "Codigo_Cliente                     0\n",
              "Evasao                             0\n",
              "Genero                             0\n",
              "Idoso                              0\n",
              "Possui_Parceiro                    0\n",
              "Possui_Dependentes                 0\n",
              "Meses_Contrato                     0\n",
              "Assinatura_Telefonica              0\n",
              "Multiplas_Linhas                   0\n",
              "Assinatura_Internet                0\n",
              "Assinatura_Segurança               0\n",
              "Assinatura_Backup_Online           0\n",
              "Assinatura_Protecao_Dispositivo    0\n",
              "Assinatura_Suporte_Tecnico         0\n",
              "Assinatura_Tv_Cabo                 0\n",
              "Streaming_Filmes                   0\n",
              "Tipo_Contrato                      0\n",
              "Fatura_Online                      0\n",
              "Forma_Pagamento                    0\n",
              "Total_Servicos_Mensal              0\n",
              "Total_Gasto_Cliente                0\n",
              "dtype: int64"
            ]
          },
          "metadata": {},
          "execution_count": 184
        }
      ]
    },
    {
      "cell_type": "markdown",
      "source": [
        "#Atribuindo valor '0' para as linhas vazias da coluna 'Total_Gasto_Cliente'"
      ],
      "metadata": {
        "id": "zW10LzF1TAqS"
      }
    },
    {
      "cell_type": "code",
      "source": [
        "#              [        filtro                            ,   Coluna            ]  Novo valor\n",
        "df_aluravoz.loc[df_aluravoz['Total_Gasto_Cliente'] == \" \", 'Total_Gasto_Cliente'] = '0'                \n",
        "df_aluravoz[df_aluravoz['Total_Gasto_Cliente'] == '0'] #consulta com filtro no valor atualizado\n"
      ],
      "metadata": {
        "id": "M9uhMkZVuJLc",
        "outputId": "5593b0bb-d3a1-48e2-b39a-deb4019c3905",
        "colab": {
          "base_uri": "https://localhost:8080/",
          "height": 143
        }
      },
      "execution_count": 204,
      "outputs": [
        {
          "output_type": "execute_result",
          "data": {
            "text/plain": [
              "Empty DataFrame\n",
              "Columns: [Codigo_Cliente, Evasao, Genero, Idoso, Possui_Parceiro, Possui_Dependentes, Meses_Contrato, Assinatura_Telefonica, Multiplas_Linhas, Assinatura_Internet, Assinatura_Segurança, Assinatura_Backup_Online, Assinatura_Protecao_Dispositivo, Assinatura_Suporte_Tecnico, Assinatura_Tv_Cabo, Streaming_Filmes, Tipo_Contrato, Fatura_Online, Forma_Pagamento, Total_Servicos_Mensal, Total_Gasto_Cliente]\n",
              "Index: []\n",
              "\n",
              "[0 rows x 21 columns]"
            ],
            "text/html": [
              "\n",
              "  <div id=\"df-8c92d5a1-d32d-4497-af36-1d69a07db035\">\n",
              "    <div class=\"colab-df-container\">\n",
              "      <div>\n",
              "<style scoped>\n",
              "    .dataframe tbody tr th:only-of-type {\n",
              "        vertical-align: middle;\n",
              "    }\n",
              "\n",
              "    .dataframe tbody tr th {\n",
              "        vertical-align: top;\n",
              "    }\n",
              "\n",
              "    .dataframe thead th {\n",
              "        text-align: right;\n",
              "    }\n",
              "</style>\n",
              "<table border=\"1\" class=\"dataframe\">\n",
              "  <thead>\n",
              "    <tr style=\"text-align: right;\">\n",
              "      <th></th>\n",
              "      <th>Codigo_Cliente</th>\n",
              "      <th>Evasao</th>\n",
              "      <th>Genero</th>\n",
              "      <th>Idoso</th>\n",
              "      <th>Possui_Parceiro</th>\n",
              "      <th>Possui_Dependentes</th>\n",
              "      <th>Meses_Contrato</th>\n",
              "      <th>Assinatura_Telefonica</th>\n",
              "      <th>Multiplas_Linhas</th>\n",
              "      <th>Assinatura_Internet</th>\n",
              "      <th>...</th>\n",
              "      <th>Assinatura_Backup_Online</th>\n",
              "      <th>Assinatura_Protecao_Dispositivo</th>\n",
              "      <th>Assinatura_Suporte_Tecnico</th>\n",
              "      <th>Assinatura_Tv_Cabo</th>\n",
              "      <th>Streaming_Filmes</th>\n",
              "      <th>Tipo_Contrato</th>\n",
              "      <th>Fatura_Online</th>\n",
              "      <th>Forma_Pagamento</th>\n",
              "      <th>Total_Servicos_Mensal</th>\n",
              "      <th>Total_Gasto_Cliente</th>\n",
              "    </tr>\n",
              "  </thead>\n",
              "  <tbody>\n",
              "  </tbody>\n",
              "</table>\n",
              "<p>0 rows × 21 columns</p>\n",
              "</div>\n",
              "      <button class=\"colab-df-convert\" onclick=\"convertToInteractive('df-8c92d5a1-d32d-4497-af36-1d69a07db035')\"\n",
              "              title=\"Convert this dataframe to an interactive table.\"\n",
              "              style=\"display:none;\">\n",
              "        \n",
              "  <svg xmlns=\"http://www.w3.org/2000/svg\" height=\"24px\"viewBox=\"0 0 24 24\"\n",
              "       width=\"24px\">\n",
              "    <path d=\"M0 0h24v24H0V0z\" fill=\"none\"/>\n",
              "    <path d=\"M18.56 5.44l.94 2.06.94-2.06 2.06-.94-2.06-.94-.94-2.06-.94 2.06-2.06.94zm-11 1L8.5 8.5l.94-2.06 2.06-.94-2.06-.94L8.5 2.5l-.94 2.06-2.06.94zm10 10l.94 2.06.94-2.06 2.06-.94-2.06-.94-.94-2.06-.94 2.06-2.06.94z\"/><path d=\"M17.41 7.96l-1.37-1.37c-.4-.4-.92-.59-1.43-.59-.52 0-1.04.2-1.43.59L10.3 9.45l-7.72 7.72c-.78.78-.78 2.05 0 2.83L4 21.41c.39.39.9.59 1.41.59.51 0 1.02-.2 1.41-.59l7.78-7.78 2.81-2.81c.8-.78.8-2.07 0-2.86zM5.41 20L4 18.59l7.72-7.72 1.47 1.35L5.41 20z\"/>\n",
              "  </svg>\n",
              "      </button>\n",
              "      \n",
              "  <style>\n",
              "    .colab-df-container {\n",
              "      display:flex;\n",
              "      flex-wrap:wrap;\n",
              "      gap: 12px;\n",
              "    }\n",
              "\n",
              "    .colab-df-convert {\n",
              "      background-color: #E8F0FE;\n",
              "      border: none;\n",
              "      border-radius: 50%;\n",
              "      cursor: pointer;\n",
              "      display: none;\n",
              "      fill: #1967D2;\n",
              "      height: 32px;\n",
              "      padding: 0 0 0 0;\n",
              "      width: 32px;\n",
              "    }\n",
              "\n",
              "    .colab-df-convert:hover {\n",
              "      background-color: #E2EBFA;\n",
              "      box-shadow: 0px 1px 2px rgba(60, 64, 67, 0.3), 0px 1px 3px 1px rgba(60, 64, 67, 0.15);\n",
              "      fill: #174EA6;\n",
              "    }\n",
              "\n",
              "    [theme=dark] .colab-df-convert {\n",
              "      background-color: #3B4455;\n",
              "      fill: #D2E3FC;\n",
              "    }\n",
              "\n",
              "    [theme=dark] .colab-df-convert:hover {\n",
              "      background-color: #434B5C;\n",
              "      box-shadow: 0px 1px 3px 1px rgba(0, 0, 0, 0.15);\n",
              "      filter: drop-shadow(0px 1px 2px rgba(0, 0, 0, 0.3));\n",
              "      fill: #FFFFFF;\n",
              "    }\n",
              "  </style>\n",
              "\n",
              "      <script>\n",
              "        const buttonEl =\n",
              "          document.querySelector('#df-8c92d5a1-d32d-4497-af36-1d69a07db035 button.colab-df-convert');\n",
              "        buttonEl.style.display =\n",
              "          google.colab.kernel.accessAllowed ? 'block' : 'none';\n",
              "\n",
              "        async function convertToInteractive(key) {\n",
              "          const element = document.querySelector('#df-8c92d5a1-d32d-4497-af36-1d69a07db035');\n",
              "          const dataTable =\n",
              "            await google.colab.kernel.invokeFunction('convertToInteractive',\n",
              "                                                     [key], {});\n",
              "          if (!dataTable) return;\n",
              "\n",
              "          const docLinkHtml = 'Like what you see? Visit the ' +\n",
              "            '<a target=\"_blank\" href=https://colab.research.google.com/notebooks/data_table.ipynb>data table notebook</a>'\n",
              "            + ' to learn more about interactive tables.';\n",
              "          element.innerHTML = '';\n",
              "          dataTable['output_type'] = 'display_data';\n",
              "          await google.colab.output.renderOutput(dataTable, element);\n",
              "          const docLink = document.createElement('div');\n",
              "          docLink.innerHTML = docLinkHtml;\n",
              "          element.appendChild(docLink);\n",
              "        }\n",
              "      </script>\n",
              "    </div>\n",
              "  </div>\n",
              "  "
            ]
          },
          "metadata": {},
          "execution_count": 204
        }
      ]
    },
    {
      "cell_type": "markdown",
      "source": [
        "#Convertendo a coluna Total_Gasto_Cliente para tipo Float64"
      ],
      "metadata": {
        "id": "6OCvF0x4_y0P"
      }
    },
    {
      "cell_type": "code",
      "source": [
        "pd.to_numeric(df_aluravoz['Total_Gasto_Cliente'])\n"
      ],
      "metadata": {
        "id": "aJyhesh638At",
        "outputId": "3cfda861-23c6-48a9-e2a7-8ba8d1ca5cb7",
        "colab": {
          "base_uri": "https://localhost:8080/"
        }
      },
      "execution_count": 201,
      "outputs": [
        {
          "output_type": "execute_result",
          "data": {
            "text/plain": [
              "0        593.30\n",
              "1        542.40\n",
              "2        280.85\n",
              "3       1237.85\n",
              "4        267.40\n",
              "         ...   \n",
              "7262     742.90\n",
              "7263    1873.70\n",
              "7264      92.75\n",
              "7265    4627.65\n",
              "7266    3707.60\n",
              "Name: Total_Gasto_Cliente, Length: 7267, dtype: float64"
            ]
          },
          "metadata": {},
          "execution_count": 201
        }
      ]
    },
    {
      "cell_type": "markdown",
      "source": [
        "#Substituindo, por segurança, os valores 0 com a mediana"
      ],
      "metadata": {
        "id": "tAPX4s8VA4cg"
      }
    },
    {
      "cell_type": "code",
      "source": [
        "df_aluravoz['Total_Gasto_Cliente'].median()"
      ],
      "metadata": {
        "id": "OC26prufCWOY",
        "outputId": "b9c087e9-7330-4cba-9c5d-1586948f1e73",
        "colab": {
          "base_uri": "https://localhost:8080/"
        }
      },
      "execution_count": 172,
      "outputs": [
        {
          "output_type": "execute_result",
          "data": {
            "text/plain": [
              "1389.2"
            ]
          },
          "metadata": {},
          "execution_count": 172
        }
      ]
    },
    {
      "cell_type": "code",
      "source": [
        "df_aluravoz.loc[df_aluravoz['Total_Gasto_Cliente'] == '0', 'Total_Gasto_Cliente'] = '1389.2'\n",
        "df_aluravoz['Total_Gasto_Cliente'] = pd.to_numeric(df_aluravoz['Total_Gasto_Cliente'])\n",
        "\n"
      ],
      "metadata": {
        "id": "GU1HSmLQAjSQ",
        "outputId": "6d30369d-ce90-42ef-c507-5c7f166646e3",
        "colab": {
          "base_uri": "https://localhost:8080/",
          "height": 206
        }
      },
      "execution_count": 219,
      "outputs": [
        {
          "output_type": "error",
          "ename": "NameError",
          "evalue": "ignored",
          "traceback": [
            "\u001b[0;31m---------------------------------------------------------------------------\u001b[0m",
            "\u001b[0;31mNameError\u001b[0m                                 Traceback (most recent call last)",
            "\u001b[0;32m<ipython-input-219-a7a924e7fb60>\u001b[0m in \u001b[0;36m<module>\u001b[0;34m()\u001b[0m\n\u001b[1;32m      1\u001b[0m \u001b[0mdf_aluravoz\u001b[0m\u001b[0;34m.\u001b[0m\u001b[0mloc\u001b[0m\u001b[0;34m[\u001b[0m\u001b[0mdf_aluravoz\u001b[0m\u001b[0;34m[\u001b[0m\u001b[0;34m'Total_Gasto_Cliente'\u001b[0m\u001b[0;34m]\u001b[0m \u001b[0;34m==\u001b[0m \u001b[0;34m'0'\u001b[0m\u001b[0;34m,\u001b[0m \u001b[0;34m'Total_Gasto_Cliente'\u001b[0m\u001b[0;34m]\u001b[0m \u001b[0;34m=\u001b[0m \u001b[0;34m'1389.2'\u001b[0m\u001b[0;34m\u001b[0m\u001b[0;34m\u001b[0m\u001b[0m\n\u001b[1;32m      2\u001b[0m \u001b[0mdf_aluravoz\u001b[0m\u001b[0;34m[\u001b[0m\u001b[0;34m'Total_Gasto_Cliente'\u001b[0m\u001b[0;34m]\u001b[0m \u001b[0;34m=\u001b[0m \u001b[0mpd\u001b[0m\u001b[0;34m.\u001b[0m\u001b[0mto_numeric\u001b[0m\u001b[0;34m(\u001b[0m\u001b[0mdf_aluravoz\u001b[0m\u001b[0;34m[\u001b[0m\u001b[0;34m'Total_Gasto_Cliente'\u001b[0m\u001b[0;34m]\u001b[0m\u001b[0;34m)\u001b[0m\u001b[0;34m\u001b[0m\u001b[0;34m\u001b[0m\u001b[0m\n\u001b[0;32m----> 3\u001b[0;31m \u001b[0mtypes\u001b[0m\u001b[0;34m(\u001b[0m\u001b[0mdf_aluravoz\u001b[0m\u001b[0;34m.\u001b[0m\u001b[0miloc\u001b[0m\u001b[0;34m[\u001b[0m\u001b[0;36m975\u001b[0m\u001b[0;34m,\u001b[0m\u001b[0;34m-\u001b[0m\u001b[0;36m1\u001b[0m\u001b[0;34m]\u001b[0m\u001b[0;34m)\u001b[0m\u001b[0;34m\u001b[0m\u001b[0;34m\u001b[0m\u001b[0m\n\u001b[0m",
            "\u001b[0;31mNameError\u001b[0m: name 'types' is not defined"
          ]
        }
      ]
    },
    {
      "cell_type": "code",
      "source": [
        "df_aluravoz.info()"
      ],
      "metadata": {
        "colab": {
          "base_uri": "https://localhost:8080/"
        },
        "id": "huDtxctcTIui",
        "outputId": "28d8bdf1-d6bb-40ba-d49b-9ca0f7a24ea0"
      },
      "execution_count": 220,
      "outputs": [
        {
          "output_type": "stream",
          "name": "stdout",
          "text": [
            "<class 'pandas.core.frame.DataFrame'>\n",
            "RangeIndex: 7267 entries, 0 to 7266\n",
            "Data columns (total 21 columns):\n",
            " #   Column                           Non-Null Count  Dtype  \n",
            "---  ------                           --------------  -----  \n",
            " 0   Codigo_Cliente                   7267 non-null   object \n",
            " 1   Evasao                           7267 non-null   object \n",
            " 2   Genero                           7267 non-null   object \n",
            " 3   Idoso                            7267 non-null   int64  \n",
            " 4   Possui_Parceiro                  7267 non-null   object \n",
            " 5   Possui_Dependentes               7267 non-null   object \n",
            " 6   Meses_Contrato                   7267 non-null   int64  \n",
            " 7   Assinatura_Telefonica            7267 non-null   object \n",
            " 8   Multiplas_Linhas                 7267 non-null   object \n",
            " 9   Assinatura_Internet              7267 non-null   object \n",
            " 10  Assinatura_Segurança             7267 non-null   object \n",
            " 11  Assinatura_Backup_Online         7267 non-null   object \n",
            " 12  Assinatura_Protecao_Dispositivo  7267 non-null   object \n",
            " 13  Assinatura_Suporte_Tecnico       7267 non-null   object \n",
            " 14  Assinatura_Tv_Cabo               7267 non-null   object \n",
            " 15  Streaming_Filmes                 7267 non-null   object \n",
            " 16  Tipo_Contrato                    7267 non-null   object \n",
            " 17  Fatura_Online                    7267 non-null   object \n",
            " 18  Forma_Pagamento                  7267 non-null   object \n",
            " 19  Total_Servicos_Mensal            7267 non-null   float64\n",
            " 20  Total_Gasto_Cliente              7267 non-null   float64\n",
            "dtypes: float64(2), int64(2), object(17)\n",
            "memory usage: 1.2+ MB\n"
          ]
        }
      ]
    },
    {
      "cell_type": "markdown",
      "source": [
        "#Descrição das colunas Total_Gasto_Cliente e Total_Servicos_Mensal"
      ],
      "metadata": {
        "id": "KTbaS8JA4lCO"
      }
    },
    {
      "cell_type": "code",
      "source": [
        "df_aluravoz['Total_Gasto_Cliente'].describe()"
      ],
      "metadata": {
        "id": "tLGXV8Ab4rbq",
        "outputId": "a38dbb55-c040-47b7-b944-4dc4a2e664bf",
        "colab": {
          "base_uri": "https://localhost:8080/"
        }
      },
      "execution_count": null,
      "outputs": [
        {
          "output_type": "execute_result",
          "data": {
            "text/plain": [
              "count     7043\n",
              "unique    6531\n",
              "top           \n",
              "freq        11\n",
              "Name: Total_Gasto_Cliente, dtype: object"
            ]
          },
          "metadata": {},
          "execution_count": 240
        }
      ]
    },
    {
      "cell_type": "code",
      "source": [
        "df_aluravoz['Total_Servicos_Mensal'].describe()"
      ],
      "metadata": {
        "id": "n5PkeGXw42Ed",
        "outputId": "bf6e5476-64af-431b-e124-cddb0f09ce21",
        "colab": {
          "base_uri": "https://localhost:8080/"
        }
      },
      "execution_count": null,
      "outputs": [
        {
          "output_type": "execute_result",
          "data": {
            "text/plain": [
              "count    7043.000000\n",
              "mean       64.761692\n",
              "std        30.090047\n",
              "min        18.250000\n",
              "25%        35.500000\n",
              "50%        70.350000\n",
              "75%        89.850000\n",
              "max       118.750000\n",
              "Name: Total_Servicos_Mensal, dtype: float64"
            ]
          },
          "metadata": {},
          "execution_count": 241
        }
      ]
    },
    {
      "cell_type": "markdown",
      "source": [
        "#Validando se o Id é uma chave única"
      ],
      "metadata": {
        "id": "jbV5ofTgZPn9"
      }
    },
    {
      "cell_type": "code",
      "source": [
        "print (len(pd.unique(df_aluravoz.Codigo_Cliente)))\n",
        "df_aluravoz['Codigo_Cliente']\n",
        "#Comparativo do print com o Length da coluna, desta forma podemos abstrair que todas alinhas possuem um código único"
      ],
      "metadata": {
        "colab": {
          "base_uri": "https://localhost:8080/"
        },
        "id": "4eK694_OY1D8",
        "outputId": "a307b681-494f-486b-ab21-0997ed58e06b"
      },
      "execution_count": null,
      "outputs": [
        {
          "output_type": "stream",
          "name": "stdout",
          "text": [
            "7267\n"
          ]
        },
        {
          "output_type": "execute_result",
          "data": {
            "text/plain": [
              "0       0002-ORFBO\n",
              "1       0003-MKNFE\n",
              "2       0004-TLHLJ\n",
              "3       0011-IGKFF\n",
              "4       0013-EXCHZ\n",
              "           ...    \n",
              "7262    9987-LUTYD\n",
              "7263    9992-RRAMN\n",
              "7264    9992-UJOEL\n",
              "7265    9993-LHIEB\n",
              "7266    9995-HOTOH\n",
              "Name: Codigo_Cliente, Length: 7267, dtype: object"
            ]
          },
          "metadata": {},
          "execution_count": 119
        }
      ]
    },
    {
      "cell_type": "markdown",
      "source": [
        "#Validando as chaves únicas das demais Colunas"
      ],
      "metadata": {
        "id": "8m7797DjiHq3"
      }
    },
    {
      "cell_type": "code",
      "source": [
        "pd.unique(df_aluravoz.columns)\n",
        "#obtendo o Array das colunas para uso na montagem do For"
      ],
      "metadata": {
        "colab": {
          "base_uri": "https://localhost:8080/"
        },
        "id": "ftV2A1iMd2em",
        "outputId": "e9a793b4-13d4-409d-b1db-64204108aae3"
      },
      "execution_count": null,
      "outputs": [
        {
          "output_type": "execute_result",
          "data": {
            "text/plain": [
              "array(['Codigo_Cliente', 'Evasao', 'Genero', 'Idoso', 'Possui_Parceiro',\n",
              "       'Possui_Dependentes', 'Meses_Contrato', 'Assinatura_Telefonica',\n",
              "       'Multiplas_Linhas', 'Assinatura_Internet', 'Assinatura_Segurança',\n",
              "       'Assinatura_Backup_Online', 'Assinatura_Protecao_Dispositivo',\n",
              "       'Assinatura_Suporte_Tecnico', 'Assinatura_Tv_Cabo',\n",
              "       'Streaming_Filmes', 'Tipo_Contrato', 'Fatura_Online',\n",
              "       'Forma_Pagamento', 'Total_Servicos_Mensal', 'Total_Gasto_Cliente'],\n",
              "      dtype=object)"
            ]
          },
          "metadata": {},
          "execution_count": 140
        }
      ]
    },
    {
      "cell_type": "code",
      "source": [
        "unique_columns = {}\n",
        "for unique in ['Evasao', 'Genero', 'Idoso', 'Possui_Parceiro','Possui_Dependentes', 'Meses_Contrato', 'Assinatura_Telefonica','Multiplas_Linhas', 'Assinatura_Internet', 'Assinatura_Segurança','Assinatura_Backup_Online', 'Assinatura_Protecao_Dispositivo','Assinatura_Suporte_Tecnico', 'Assinatura_Tv_Cabo','Streaming_Filmes', 'Tipo_Contrato', 'Fatura_Online','Forma_Pagamento']:\n",
        "  unique_columns = pd.unique(df_aluravoz[unique])\n",
        "  print(f\"A Coluna é \\033[1m{unique}\\033[0m e os dados únicos são \\033[1m{unique_columns}\\033[0m\")\n"
      ],
      "metadata": {
        "colab": {
          "base_uri": "https://localhost:8080/"
        },
        "id": "s-6dYkPFcGgt",
        "outputId": "1e49ac61-554a-40f0-b020-2c040f9791b2"
      },
      "execution_count": null,
      "outputs": [
        {
          "output_type": "stream",
          "name": "stdout",
          "text": [
            "A Coluna é \u001b[1mEvasao\u001b[0m e os dados únicos são \u001b[1m['No' 'Yes' '']\u001b[0m\n",
            "A Coluna é \u001b[1mGenero\u001b[0m e os dados únicos são \u001b[1m['Female' 'Male']\u001b[0m\n",
            "A Coluna é \u001b[1mIdoso\u001b[0m e os dados únicos são \u001b[1m[0 1]\u001b[0m\n",
            "A Coluna é \u001b[1mPossui_Parceiro\u001b[0m e os dados únicos são \u001b[1m['Yes' 'No']\u001b[0m\n",
            "A Coluna é \u001b[1mPossui_Dependentes\u001b[0m e os dados únicos são \u001b[1m['Yes' 'No']\u001b[0m\n",
            "A Coluna é \u001b[1mMeses_Contrato\u001b[0m e os dados únicos são \u001b[1m[ 9  4 13  3 71 63  7 65 54 72  5 56 34  1 45 50 23 55 26 69 11 37 49 66\n",
            " 67 20 43 59 12 27  2 25 29 14 35 64 39 40  6 30 70 57 58 16 32 33 10 21\n",
            " 61 15 44 22 24 19 47 62 46 52  8 60 48 28 41 53 68 51 31 36 17 18 38 42\n",
            "  0]\u001b[0m\n",
            "A Coluna é \u001b[1mAssinatura_Telefonica\u001b[0m e os dados únicos são \u001b[1m['Yes' 'No']\u001b[0m\n",
            "A Coluna é \u001b[1mMultiplas_Linhas\u001b[0m e os dados únicos são \u001b[1m['No' 'Yes' 'No phone service']\u001b[0m\n",
            "A Coluna é \u001b[1mAssinatura_Internet\u001b[0m e os dados únicos são \u001b[1m['DSL' 'Fiber optic' 'No']\u001b[0m\n",
            "A Coluna é \u001b[1mAssinatura_Segurança\u001b[0m e os dados únicos são \u001b[1m['No' 'Yes' 'No internet service']\u001b[0m\n",
            "A Coluna é \u001b[1mAssinatura_Backup_Online\u001b[0m e os dados únicos são \u001b[1m['Yes' 'No' 'No internet service']\u001b[0m\n",
            "A Coluna é \u001b[1mAssinatura_Protecao_Dispositivo\u001b[0m e os dados únicos são \u001b[1m['No' 'Yes' 'No internet service']\u001b[0m\n",
            "A Coluna é \u001b[1mAssinatura_Suporte_Tecnico\u001b[0m e os dados únicos são \u001b[1m['Yes' 'No' 'No internet service']\u001b[0m\n",
            "A Coluna é \u001b[1mAssinatura_Tv_Cabo\u001b[0m e os dados únicos são \u001b[1m['Yes' 'No' 'No internet service']\u001b[0m\n",
            "A Coluna é \u001b[1mStreaming_Filmes\u001b[0m e os dados únicos são \u001b[1m['No' 'Yes' 'No internet service']\u001b[0m\n",
            "A Coluna é \u001b[1mTipo_Contrato\u001b[0m e os dados únicos são \u001b[1m['One year' 'Month-to-month' 'Two year']\u001b[0m\n",
            "A Coluna é \u001b[1mFatura_Online\u001b[0m e os dados únicos são \u001b[1m['Yes' 'No']\u001b[0m\n",
            "A Coluna é \u001b[1mForma_Pagamento\u001b[0m e os dados únicos são \u001b[1m['Mailed check' 'Electronic check' 'Credit card (automatic)'\n",
            " 'Bank transfer (automatic)']\u001b[0m\n"
          ]
        }
      ]
    },
    {
      "cell_type": "markdown",
      "source": [
        "#Tratando dados inconsistente da coluna Evasão"
      ],
      "metadata": {
        "id": "GrFzjDg7ipFf"
      }
    },
    {
      "cell_type": "code",
      "source": [
        "#efetuado um filtro e efetuada a deleção pelo indice, atualizando o dataframe com essa informação.\n",
        "evasao_vazio = df_aluravoz[df_aluravoz.Evasao == '']\n",
        "df_aluravoz.drop(evasao_vazio.index,inplace=True)\n",
        "pd.unique(df_aluravoz['Evasao'])\n"
      ],
      "metadata": {
        "id": "9GEifQ-Iiwu-",
        "outputId": "8aa2381e-ef02-4ab9-fe95-7466346637a2",
        "colab": {
          "base_uri": "https://localhost:8080/"
        }
      },
      "execution_count": null,
      "outputs": [
        {
          "output_type": "execute_result",
          "data": {
            "text/plain": [
              "array(['No', 'Yes'], dtype=object)"
            ]
          },
          "metadata": {},
          "execution_count": 231
        }
      ]
    },
    {
      "cell_type": "markdown",
      "source": [
        "#Separando somente os clientes que apresentaram Churn Rate"
      ],
      "metadata": {
        "id": "GuqCsObBh9J4"
      }
    },
    {
      "cell_type": "code",
      "source": [
        "evasao_clientes = df_aluravoz[df_aluravoz.Evasao == 'Yes']\n",
        "len(evasao_clientes)"
      ],
      "metadata": {
        "colab": {
          "base_uri": "https://localhost:8080/"
        },
        "id": "3SnR9KXaiASG",
        "outputId": "e41811ab-a99d-432f-cddc-b061d46000a6"
      },
      "execution_count": null,
      "outputs": [
        {
          "output_type": "execute_result",
          "data": {
            "text/plain": [
              "1869"
            ]
          },
          "metadata": {},
          "execution_count": 238
        }
      ]
    },
    {
      "cell_type": "code",
      "source": [
        ""
      ],
      "metadata": {
        "id": "xQLIEUNE5SRV"
      },
      "execution_count": null,
      "outputs": []
    },
    {
      "cell_type": "markdown",
      "source": [
        "Como adicionar uma coluna no Pandas?\n",
        "insert() Método para adicionar uma nova coluna em Pandas. Você pode utilizar a função df. insert() se quiser adicionar a nova coluna em um índice específico.1 de nov. de 2020"
      ],
      "metadata": {
        "id": "I9KsjgEO2mGF"
      }
    }
  ]
}